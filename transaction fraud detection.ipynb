{
 "cells": [
  {
   "cell_type": "code",
   "execution_count": 1,
   "id": "cdd17985",
   "metadata": {},
   "outputs": [],
   "source": [
    "import pandas as pd\n",
    "import numpy as np\n",
    "import seaborn as sns\n",
    "import matplotlib.pyplot as plt\n",
    "%matplotlib inline"
   ]
  },
  {
   "cell_type": "code",
   "execution_count": 2,
   "id": "fc66cf85",
   "metadata": {},
   "outputs": [
    {
     "data": {
      "text/html": [
       "<div>\n",
       "<style scoped>\n",
       "    .dataframe tbody tr th:only-of-type {\n",
       "        vertical-align: middle;\n",
       "    }\n",
       "\n",
       "    .dataframe tbody tr th {\n",
       "        vertical-align: top;\n",
       "    }\n",
       "\n",
       "    .dataframe thead th {\n",
       "        text-align: right;\n",
       "    }\n",
       "</style>\n",
       "<table border=\"1\" class=\"dataframe\">\n",
       "  <thead>\n",
       "    <tr style=\"text-align: right;\">\n",
       "      <th></th>\n",
       "      <th>step</th>\n",
       "      <th>type</th>\n",
       "      <th>amount</th>\n",
       "      <th>nameOrig</th>\n",
       "      <th>oldbalanceOrg</th>\n",
       "      <th>newbalanceOrig</th>\n",
       "      <th>nameDest</th>\n",
       "      <th>oldbalanceDest</th>\n",
       "      <th>newbalanceDest</th>\n",
       "      <th>isFraud</th>\n",
       "      <th>isFlaggedFraud</th>\n",
       "    </tr>\n",
       "  </thead>\n",
       "  <tbody>\n",
       "    <tr>\n",
       "      <th>0</th>\n",
       "      <td>1</td>\n",
       "      <td>PAYMENT</td>\n",
       "      <td>9839.64</td>\n",
       "      <td>C1231006815</td>\n",
       "      <td>170136.0</td>\n",
       "      <td>160296.36</td>\n",
       "      <td>M1979787155</td>\n",
       "      <td>0.0</td>\n",
       "      <td>0.0</td>\n",
       "      <td>0</td>\n",
       "      <td>0</td>\n",
       "    </tr>\n",
       "    <tr>\n",
       "      <th>1</th>\n",
       "      <td>1</td>\n",
       "      <td>PAYMENT</td>\n",
       "      <td>1864.28</td>\n",
       "      <td>C1666544295</td>\n",
       "      <td>21249.0</td>\n",
       "      <td>19384.72</td>\n",
       "      <td>M2044282225</td>\n",
       "      <td>0.0</td>\n",
       "      <td>0.0</td>\n",
       "      <td>0</td>\n",
       "      <td>0</td>\n",
       "    </tr>\n",
       "    <tr>\n",
       "      <th>2</th>\n",
       "      <td>1</td>\n",
       "      <td>TRANSFER</td>\n",
       "      <td>181.00</td>\n",
       "      <td>C1305486145</td>\n",
       "      <td>181.0</td>\n",
       "      <td>0.00</td>\n",
       "      <td>C553264065</td>\n",
       "      <td>0.0</td>\n",
       "      <td>0.0</td>\n",
       "      <td>1</td>\n",
       "      <td>0</td>\n",
       "    </tr>\n",
       "    <tr>\n",
       "      <th>3</th>\n",
       "      <td>1</td>\n",
       "      <td>CASH_OUT</td>\n",
       "      <td>181.00</td>\n",
       "      <td>C840083671</td>\n",
       "      <td>181.0</td>\n",
       "      <td>0.00</td>\n",
       "      <td>C38997010</td>\n",
       "      <td>21182.0</td>\n",
       "      <td>0.0</td>\n",
       "      <td>1</td>\n",
       "      <td>0</td>\n",
       "    </tr>\n",
       "    <tr>\n",
       "      <th>4</th>\n",
       "      <td>1</td>\n",
       "      <td>PAYMENT</td>\n",
       "      <td>11668.14</td>\n",
       "      <td>C2048537720</td>\n",
       "      <td>41554.0</td>\n",
       "      <td>29885.86</td>\n",
       "      <td>M1230701703</td>\n",
       "      <td>0.0</td>\n",
       "      <td>0.0</td>\n",
       "      <td>0</td>\n",
       "      <td>0</td>\n",
       "    </tr>\n",
       "  </tbody>\n",
       "</table>\n",
       "</div>"
      ],
      "text/plain": [
       "   step      type    amount     nameOrig  oldbalanceOrg  newbalanceOrig  \\\n",
       "0     1   PAYMENT   9839.64  C1231006815       170136.0       160296.36   \n",
       "1     1   PAYMENT   1864.28  C1666544295        21249.0        19384.72   \n",
       "2     1  TRANSFER    181.00  C1305486145          181.0            0.00   \n",
       "3     1  CASH_OUT    181.00   C840083671          181.0            0.00   \n",
       "4     1   PAYMENT  11668.14  C2048537720        41554.0        29885.86   \n",
       "\n",
       "      nameDest  oldbalanceDest  newbalanceDest  isFraud  isFlaggedFraud  \n",
       "0  M1979787155             0.0             0.0        0               0  \n",
       "1  M2044282225             0.0             0.0        0               0  \n",
       "2   C553264065             0.0             0.0        1               0  \n",
       "3    C38997010         21182.0             0.0        1               0  \n",
       "4  M1230701703             0.0             0.0        0               0  "
      ]
     },
     "execution_count": 2,
     "metadata": {},
     "output_type": "execute_result"
    }
   ],
   "source": [
    "df = pd.read_csv('Fraud.csv')\n",
    "df.head()"
   ]
  },
  {
   "cell_type": "code",
   "execution_count": 3,
   "id": "5c1441f9",
   "metadata": {},
   "outputs": [
    {
     "name": "stdout",
     "output_type": "stream",
     "text": [
      "<class 'pandas.core.frame.DataFrame'>\n",
      "RangeIndex: 6362620 entries, 0 to 6362619\n",
      "Data columns (total 11 columns):\n",
      " #   Column          Dtype  \n",
      "---  ------          -----  \n",
      " 0   step            int64  \n",
      " 1   type            object \n",
      " 2   amount          float64\n",
      " 3   nameOrig        object \n",
      " 4   oldbalanceOrg   float64\n",
      " 5   newbalanceOrig  float64\n",
      " 6   nameDest        object \n",
      " 7   oldbalanceDest  float64\n",
      " 8   newbalanceDest  float64\n",
      " 9   isFraud         int64  \n",
      " 10  isFlaggedFraud  int64  \n",
      "dtypes: float64(5), int64(3), object(3)\n",
      "memory usage: 534.0+ MB\n"
     ]
    }
   ],
   "source": [
    "df.info()"
   ]
  },
  {
   "cell_type": "markdown",
   "id": "b77d2a1d",
   "metadata": {},
   "source": [
    "## Missing vallue handling"
   ]
  },
  {
   "cell_type": "code",
   "execution_count": 4,
   "id": "84d4fff3",
   "metadata": {},
   "outputs": [
    {
     "data": {
      "text/plain": [
       "step              0\n",
       "type              0\n",
       "amount            0\n",
       "nameOrig          0\n",
       "oldbalanceOrg     0\n",
       "newbalanceOrig    0\n",
       "nameDest          0\n",
       "oldbalanceDest    0\n",
       "newbalanceDest    0\n",
       "isFraud           0\n",
       "isFlaggedFraud    0\n",
       "dtype: int64"
      ]
     },
     "execution_count": 4,
     "metadata": {},
     "output_type": "execute_result"
    }
   ],
   "source": [
    "df.isnull().sum()"
   ]
  },
  {
   "cell_type": "code",
   "execution_count": 5,
   "id": "6ef88b8b",
   "metadata": {},
   "outputs": [],
   "source": [
    "## there is no missing value in this dataset"
   ]
  },
  {
   "cell_type": "markdown",
   "id": "beb93225",
   "metadata": {},
   "source": [
    "## Cleaning data"
   ]
  },
  {
   "cell_type": "code",
   "execution_count": 6,
   "id": "8d89a3d2",
   "metadata": {},
   "outputs": [],
   "source": [
    "df['namestart']= df['nameDest'].apply(lambda x: str(x)[0])\n",
    "df['nameend']= df['nameOrig'].apply(lambda x: str(x)[0])"
   ]
  },
  {
   "cell_type": "code",
   "execution_count": 7,
   "id": "ebe1cc27",
   "metadata": {},
   "outputs": [
    {
     "data": {
      "text/plain": [
       "0    2151495\n",
       "Name: isFraud, dtype: int64"
      ]
     },
     "execution_count": 7,
     "metadata": {},
     "output_type": "execute_result"
    }
   ],
   "source": [
    "merchant = df[df['namestart'] == 'M']\n",
    "merchant['isFraud'].value_counts()"
   ]
  },
  {
   "cell_type": "code",
   "execution_count": 8,
   "id": "02f88c1f",
   "metadata": {},
   "outputs": [],
   "source": [
    "## Nameend has no effect, because it only contain single data, "
   ]
  },
  {
   "cell_type": "code",
   "execution_count": 9,
   "id": "65e9b4a5",
   "metadata": {},
   "outputs": [
    {
     "data": {
      "text/plain": [
       "4116"
      ]
     },
     "execution_count": 9,
     "metadata": {},
     "output_type": "execute_result"
    }
   ],
   "source": [
    "len(df[(df['type'] == 'CASH_OUT') & (df['isFraud'] == 1)])"
   ]
  },
  {
   "cell_type": "code",
   "execution_count": 10,
   "id": "6546553a",
   "metadata": {},
   "outputs": [
    {
     "data": {
      "text/plain": [
       "0"
      ]
     },
     "execution_count": 10,
     "metadata": {},
     "output_type": "execute_result"
    }
   ],
   "source": [
    "len(df[(df['type'] == 'CASH_IN') & (df['isFraud'] == 1)])"
   ]
  },
  {
   "cell_type": "code",
   "execution_count": 11,
   "id": "a1b1a615",
   "metadata": {},
   "outputs": [
    {
     "data": {
      "text/plain": [
       "0"
      ]
     },
     "execution_count": 11,
     "metadata": {},
     "output_type": "execute_result"
    }
   ],
   "source": [
    "len(df[(df['type'] == 'PAYMENT') & (df['isFraud'] == 1)])"
   ]
  },
  {
   "cell_type": "code",
   "execution_count": 12,
   "id": "59a9c4be",
   "metadata": {},
   "outputs": [
    {
     "data": {
      "text/plain": [
       "0"
      ]
     },
     "execution_count": 12,
     "metadata": {},
     "output_type": "execute_result"
    }
   ],
   "source": [
    "len(df[(df['type'] == 'DEBIT') & (df['isFraud'] == 1)])"
   ]
  },
  {
   "cell_type": "code",
   "execution_count": 13,
   "id": "24b722ee",
   "metadata": {},
   "outputs": [
    {
     "data": {
      "text/plain": [
       "4097"
      ]
     },
     "execution_count": 13,
     "metadata": {},
     "output_type": "execute_result"
    }
   ],
   "source": [
    "len(df[(df['type'] == 'TRANSFER') & (df['isFraud'] == 1)])"
   ]
  },
  {
   "cell_type": "code",
   "execution_count": 14,
   "id": "a67b2d34",
   "metadata": {
    "scrolled": true
   },
   "outputs": [
    {
     "data": {
      "text/plain": [
       "REPLACE     3592211\n",
       "CASH_OUT    2237500\n",
       "TRANSFER     532909\n",
       "Name: new_type, dtype: int64"
      ]
     },
     "execution_count": 14,
     "metadata": {},
     "output_type": "execute_result"
    }
   ],
   "source": [
    "## CASH_IN,DEBIT and  PAYMENT has no effect on Fraud, so we replace it with 'REPLACE'\n",
    "df['new_type'] = df['type'].replace({'CASH_IN':'REPLACE', 'DEBIT':'REPLACE', 'PAYMENT':'REPLACE'})\n",
    "df['new_type'].value_counts()"
   ]
  },
  {
   "cell_type": "markdown",
   "id": "c3872a78",
   "metadata": {},
   "source": [
    "### 2.1 Drop unwanted colums"
   ]
  },
  {
   "cell_type": "code",
   "execution_count": 15,
   "id": "c7973bb0",
   "metadata": {},
   "outputs": [],
   "source": [
    "df1 = df.copy()\n",
    "df1 = df.drop(['type','nameOrig','nameend','nameDest','isFlaggedFraud'],axis=1)"
   ]
  },
  {
   "cell_type": "markdown",
   "id": "8b9d333f",
   "metadata": {},
   "source": [
    "## Split the data into independent and dependent "
   ]
  },
  {
   "cell_type": "code",
   "execution_count": 16,
   "id": "2cdfe50a",
   "metadata": {},
   "outputs": [],
   "source": [
    "#independent features \n",
    "x = df1.drop(['isFraud'],axis=1)\n",
    "\n",
    "# dependent features \n",
    "y = df1['isFraud']"
   ]
  },
  {
   "cell_type": "code",
   "execution_count": 17,
   "id": "2c6f15d1",
   "metadata": {},
   "outputs": [],
   "source": [
    "from imblearn.under_sampling import RandomUnderSampler"
   ]
  },
  {
   "cell_type": "code",
   "execution_count": 18,
   "id": "b2a0cb69",
   "metadata": {},
   "outputs": [],
   "source": [
    "rus = RandomUnderSampler(random_state=42)"
   ]
  },
  {
   "cell_type": "code",
   "execution_count": 19,
   "id": "6260d4f9",
   "metadata": {},
   "outputs": [],
   "source": [
    "x_resampled,y_resampled = rus.fit_resample(x,y)"
   ]
  },
  {
   "cell_type": "code",
   "execution_count": 20,
   "id": "8eecd774",
   "metadata": {},
   "outputs": [],
   "source": [
    "## concat the data\n",
    "df2 = pd.concat([x_resampled,y_resampled],axis=1)\n"
   ]
  },
  {
   "cell_type": "markdown",
   "id": "75af544d",
   "metadata": {},
   "source": [
    "### 2.2 Remove unwanted step dataset"
   ]
  },
  {
   "cell_type": "code",
   "execution_count": 21,
   "id": "b47f3fe8",
   "metadata": {},
   "outputs": [],
   "source": [
    "step_size = df2.step.value_counts().sort_values(ascending = True)\n",
    "step_size_greater_than_10 = step_size[step_size>10]"
   ]
  },
  {
   "cell_type": "code",
   "execution_count": 22,
   "id": "fc4c47dc",
   "metadata": {},
   "outputs": [],
   "source": [
    "df2['new_step'] = df2['step'].apply(lambda x: x if x in step_size_greater_than_10 else 1000) "
   ]
  },
  {
   "cell_type": "code",
   "execution_count": 23,
   "id": "fc521da3",
   "metadata": {},
   "outputs": [],
   "source": [
    "## only collect the data less than 1000 \n",
    "df2 = df2[~(df2['new_step'] == 1000)]"
   ]
  },
  {
   "cell_type": "markdown",
   "id": "e44ab269",
   "metadata": {},
   "source": [
    "###  2.4 Split the data into fraud and Non fraudd"
   ]
  },
  {
   "cell_type": "code",
   "execution_count": 24,
   "id": "01cbfe9c",
   "metadata": {},
   "outputs": [],
   "source": [
    "fraud = df2[df2['isFraud'] == 1]\n",
    "non_fraud = df2[df2['isFraud'] == 0]"
   ]
  },
  {
   "cell_type": "code",
   "execution_count": 25,
   "id": "9857f2b3",
   "metadata": {},
   "outputs": [
    {
     "data": {
      "text/plain": [
       "((6411, 10), (8108, 10))"
      ]
     },
     "execution_count": 25,
     "metadata": {},
     "output_type": "execute_result"
    }
   ],
   "source": [
    "fraud.shape,non_fraud.shape"
   ]
  },
  {
   "cell_type": "code",
   "execution_count": 26,
   "id": "b22370f7",
   "metadata": {},
   "outputs": [],
   "source": [
    "non_fraud_merchant = non_fraud[non_fraud['namestart'] == 'M']"
   ]
  },
  {
   "cell_type": "code",
   "execution_count": 27,
   "id": "ec739b97",
   "metadata": {},
   "outputs": [],
   "source": [
    "non_fraud_customer = non_fraud[non_fraud['namestart'] == 'C']\n"
   ]
  },
  {
   "cell_type": "markdown",
   "id": "5613f024",
   "metadata": {},
   "source": [
    "### 2.5 details of data"
   ]
  },
  {
   "cell_type": "code",
   "execution_count": 28,
   "id": "ab638ed7",
   "metadata": {},
   "outputs": [
    {
     "data": {
      "text/html": [
       "<div>\n",
       "<style scoped>\n",
       "    .dataframe tbody tr th:only-of-type {\n",
       "        vertical-align: middle;\n",
       "    }\n",
       "\n",
       "    .dataframe tbody tr th {\n",
       "        vertical-align: top;\n",
       "    }\n",
       "\n",
       "    .dataframe thead th {\n",
       "        text-align: right;\n",
       "    }\n",
       "</style>\n",
       "<table border=\"1\" class=\"dataframe\">\n",
       "  <thead>\n",
       "    <tr style=\"text-align: right;\">\n",
       "      <th></th>\n",
       "      <th>step</th>\n",
       "      <th>amount</th>\n",
       "      <th>oldbalanceOrg</th>\n",
       "      <th>newbalanceOrig</th>\n",
       "      <th>oldbalanceDest</th>\n",
       "      <th>newbalanceDest</th>\n",
       "      <th>isFraud</th>\n",
       "      <th>new_step</th>\n",
       "    </tr>\n",
       "  </thead>\n",
       "  <tbody>\n",
       "    <tr>\n",
       "      <th>count</th>\n",
       "      <td>6411.000000</td>\n",
       "      <td>6.411000e+03</td>\n",
       "      <td>6.411000e+03</td>\n",
       "      <td>6.411000e+03</td>\n",
       "      <td>6.411000e+03</td>\n",
       "      <td>6.411000e+03</td>\n",
       "      <td>6411.0</td>\n",
       "      <td>6411.000000</td>\n",
       "    </tr>\n",
       "    <tr>\n",
       "      <th>mean</th>\n",
       "      <td>355.848854</td>\n",
       "      <td>1.547275e+06</td>\n",
       "      <td>1.774892e+06</td>\n",
       "      <td>2.413147e+05</td>\n",
       "      <td>5.435011e+05</td>\n",
       "      <td>1.318753e+06</td>\n",
       "      <td>1.0</td>\n",
       "      <td>355.848854</td>\n",
       "    </tr>\n",
       "    <tr>\n",
       "      <th>std</th>\n",
       "      <td>211.711687</td>\n",
       "      <td>2.514771e+06</td>\n",
       "      <td>3.857621e+06</td>\n",
       "      <td>2.216045e+06</td>\n",
       "      <td>3.531242e+06</td>\n",
       "      <td>4.118892e+06</td>\n",
       "      <td>0.0</td>\n",
       "      <td>211.711687</td>\n",
       "    </tr>\n",
       "    <tr>\n",
       "      <th>min</th>\n",
       "      <td>1.000000</td>\n",
       "      <td>0.000000e+00</td>\n",
       "      <td>0.000000e+00</td>\n",
       "      <td>0.000000e+00</td>\n",
       "      <td>0.000000e+00</td>\n",
       "      <td>0.000000e+00</td>\n",
       "      <td>1.0</td>\n",
       "      <td>1.000000</td>\n",
       "    </tr>\n",
       "    <tr>\n",
       "      <th>25%</th>\n",
       "      <td>178.000000</td>\n",
       "      <td>1.285233e+05</td>\n",
       "      <td>1.270547e+05</td>\n",
       "      <td>0.000000e+00</td>\n",
       "      <td>0.000000e+00</td>\n",
       "      <td>0.000000e+00</td>\n",
       "      <td>1.0</td>\n",
       "      <td>178.000000</td>\n",
       "    </tr>\n",
       "    <tr>\n",
       "      <th>50%</th>\n",
       "      <td>350.000000</td>\n",
       "      <td>4.422902e+05</td>\n",
       "      <td>4.418735e+05</td>\n",
       "      <td>0.000000e+00</td>\n",
       "      <td>0.000000e+00</td>\n",
       "      <td>5.566140e+03</td>\n",
       "      <td>1.0</td>\n",
       "      <td>350.000000</td>\n",
       "    </tr>\n",
       "    <tr>\n",
       "      <th>75%</th>\n",
       "      <td>537.000000</td>\n",
       "      <td>1.636052e+06</td>\n",
       "      <td>1.636052e+06</td>\n",
       "      <td>0.000000e+00</td>\n",
       "      <td>1.479595e+05</td>\n",
       "      <td>1.075679e+06</td>\n",
       "      <td>1.0</td>\n",
       "      <td>537.000000</td>\n",
       "    </tr>\n",
       "    <tr>\n",
       "      <th>max</th>\n",
       "      <td>742.000000</td>\n",
       "      <td>1.000000e+07</td>\n",
       "      <td>5.958504e+07</td>\n",
       "      <td>4.958504e+07</td>\n",
       "      <td>2.362305e+08</td>\n",
       "      <td>2.367265e+08</td>\n",
       "      <td>1.0</td>\n",
       "      <td>742.000000</td>\n",
       "    </tr>\n",
       "  </tbody>\n",
       "</table>\n",
       "</div>"
      ],
      "text/plain": [
       "              step        amount  oldbalanceOrg  newbalanceOrig  \\\n",
       "count  6411.000000  6.411000e+03   6.411000e+03    6.411000e+03   \n",
       "mean    355.848854  1.547275e+06   1.774892e+06    2.413147e+05   \n",
       "std     211.711687  2.514771e+06   3.857621e+06    2.216045e+06   \n",
       "min       1.000000  0.000000e+00   0.000000e+00    0.000000e+00   \n",
       "25%     178.000000  1.285233e+05   1.270547e+05    0.000000e+00   \n",
       "50%     350.000000  4.422902e+05   4.418735e+05    0.000000e+00   \n",
       "75%     537.000000  1.636052e+06   1.636052e+06    0.000000e+00   \n",
       "max     742.000000  1.000000e+07   5.958504e+07    4.958504e+07   \n",
       "\n",
       "       oldbalanceDest  newbalanceDest  isFraud     new_step  \n",
       "count    6.411000e+03    6.411000e+03   6411.0  6411.000000  \n",
       "mean     5.435011e+05    1.318753e+06      1.0   355.848854  \n",
       "std      3.531242e+06    4.118892e+06      0.0   211.711687  \n",
       "min      0.000000e+00    0.000000e+00      1.0     1.000000  \n",
       "25%      0.000000e+00    0.000000e+00      1.0   178.000000  \n",
       "50%      0.000000e+00    5.566140e+03      1.0   350.000000  \n",
       "75%      1.479595e+05    1.075679e+06      1.0   537.000000  \n",
       "max      2.362305e+08    2.367265e+08      1.0   742.000000  "
      ]
     },
     "execution_count": 28,
     "metadata": {},
     "output_type": "execute_result"
    }
   ],
   "source": [
    "fraud.describe()"
   ]
  },
  {
   "cell_type": "code",
   "execution_count": 29,
   "id": "b7d241b2",
   "metadata": {},
   "outputs": [
    {
     "data": {
      "text/html": [
       "<div>\n",
       "<style scoped>\n",
       "    .dataframe tbody tr th:only-of-type {\n",
       "        vertical-align: middle;\n",
       "    }\n",
       "\n",
       "    .dataframe tbody tr th {\n",
       "        vertical-align: top;\n",
       "    }\n",
       "\n",
       "    .dataframe thead th {\n",
       "        text-align: right;\n",
       "    }\n",
       "</style>\n",
       "<table border=\"1\" class=\"dataframe\">\n",
       "  <thead>\n",
       "    <tr style=\"text-align: right;\">\n",
       "      <th></th>\n",
       "      <th>step</th>\n",
       "      <th>amount</th>\n",
       "      <th>oldbalanceOrg</th>\n",
       "      <th>newbalanceOrig</th>\n",
       "      <th>oldbalanceDest</th>\n",
       "      <th>newbalanceDest</th>\n",
       "      <th>isFraud</th>\n",
       "      <th>new_step</th>\n",
       "    </tr>\n",
       "  </thead>\n",
       "  <tbody>\n",
       "    <tr>\n",
       "      <th>count</th>\n",
       "      <td>5423.000000</td>\n",
       "      <td>5.423000e+03</td>\n",
       "      <td>5.423000e+03</td>\n",
       "      <td>5.423000e+03</td>\n",
       "      <td>5.423000e+03</td>\n",
       "      <td>5.423000e+03</td>\n",
       "      <td>5423.0</td>\n",
       "      <td>5423.000000</td>\n",
       "    </tr>\n",
       "    <tr>\n",
       "      <th>mean</th>\n",
       "      <td>240.230684</td>\n",
       "      <td>2.656046e+05</td>\n",
       "      <td>1.219670e+06</td>\n",
       "      <td>1.257756e+06</td>\n",
       "      <td>1.677502e+06</td>\n",
       "      <td>1.862838e+06</td>\n",
       "      <td>0.0</td>\n",
       "      <td>240.230684</td>\n",
       "    </tr>\n",
       "    <tr>\n",
       "      <th>std</th>\n",
       "      <td>140.066915</td>\n",
       "      <td>6.909658e+05</td>\n",
       "      <td>3.460336e+06</td>\n",
       "      <td>3.502506e+06</td>\n",
       "      <td>4.319164e+06</td>\n",
       "      <td>4.567808e+06</td>\n",
       "      <td>0.0</td>\n",
       "      <td>140.066915</td>\n",
       "    </tr>\n",
       "    <tr>\n",
       "      <th>min</th>\n",
       "      <td>1.000000</td>\n",
       "      <td>1.808000e+01</td>\n",
       "      <td>0.000000e+00</td>\n",
       "      <td>0.000000e+00</td>\n",
       "      <td>0.000000e+00</td>\n",
       "      <td>0.000000e+00</td>\n",
       "      <td>0.0</td>\n",
       "      <td>1.000000</td>\n",
       "    </tr>\n",
       "    <tr>\n",
       "      <th>25%</th>\n",
       "      <td>154.000000</td>\n",
       "      <td>7.723302e+04</td>\n",
       "      <td>0.000000e+00</td>\n",
       "      <td>0.000000e+00</td>\n",
       "      <td>1.462194e+05</td>\n",
       "      <td>2.283531e+05</td>\n",
       "      <td>0.0</td>\n",
       "      <td>154.000000</td>\n",
       "    </tr>\n",
       "    <tr>\n",
       "      <th>50%</th>\n",
       "      <td>236.000000</td>\n",
       "      <td>1.615979e+05</td>\n",
       "      <td>1.704500e+04</td>\n",
       "      <td>0.000000e+00</td>\n",
       "      <td>5.641803e+05</td>\n",
       "      <td>7.038101e+05</td>\n",
       "      <td>0.0</td>\n",
       "      <td>236.000000</td>\n",
       "    </tr>\n",
       "    <tr>\n",
       "      <th>75%</th>\n",
       "      <td>331.000000</td>\n",
       "      <td>2.789461e+05</td>\n",
       "      <td>1.750826e+05</td>\n",
       "      <td>2.634583e+05</td>\n",
       "      <td>1.710577e+06</td>\n",
       "      <td>1.924417e+06</td>\n",
       "      <td>0.0</td>\n",
       "      <td>331.000000</td>\n",
       "    </tr>\n",
       "    <tr>\n",
       "      <th>max</th>\n",
       "      <td>717.000000</td>\n",
       "      <td>3.147911e+07</td>\n",
       "      <td>3.280421e+07</td>\n",
       "      <td>3.285196e+07</td>\n",
       "      <td>1.667418e+08</td>\n",
       "      <td>1.680585e+08</td>\n",
       "      <td>0.0</td>\n",
       "      <td>717.000000</td>\n",
       "    </tr>\n",
       "  </tbody>\n",
       "</table>\n",
       "</div>"
      ],
      "text/plain": [
       "              step        amount  oldbalanceOrg  newbalanceOrig  \\\n",
       "count  5423.000000  5.423000e+03   5.423000e+03    5.423000e+03   \n",
       "mean    240.230684  2.656046e+05   1.219670e+06    1.257756e+06   \n",
       "std     140.066915  6.909658e+05   3.460336e+06    3.502506e+06   \n",
       "min       1.000000  1.808000e+01   0.000000e+00    0.000000e+00   \n",
       "25%     154.000000  7.723302e+04   0.000000e+00    0.000000e+00   \n",
       "50%     236.000000  1.615979e+05   1.704500e+04    0.000000e+00   \n",
       "75%     331.000000  2.789461e+05   1.750826e+05    2.634583e+05   \n",
       "max     717.000000  3.147911e+07   3.280421e+07    3.285196e+07   \n",
       "\n",
       "       oldbalanceDest  newbalanceDest  isFraud     new_step  \n",
       "count    5.423000e+03    5.423000e+03   5423.0  5423.000000  \n",
       "mean     1.677502e+06    1.862838e+06      0.0   240.230684  \n",
       "std      4.319164e+06    4.567808e+06      0.0   140.066915  \n",
       "min      0.000000e+00    0.000000e+00      0.0     1.000000  \n",
       "25%      1.462194e+05    2.283531e+05      0.0   154.000000  \n",
       "50%      5.641803e+05    7.038101e+05      0.0   236.000000  \n",
       "75%      1.710577e+06    1.924417e+06      0.0   331.000000  \n",
       "max      1.667418e+08    1.680585e+08      0.0   717.000000  "
      ]
     },
     "execution_count": 29,
     "metadata": {},
     "output_type": "execute_result"
    }
   ],
   "source": [
    "non_fraud_customer.describe()"
   ]
  },
  {
   "cell_type": "code",
   "execution_count": 30,
   "id": "9244b987",
   "metadata": {},
   "outputs": [
    {
     "data": {
      "text/html": [
       "<div>\n",
       "<style scoped>\n",
       "    .dataframe tbody tr th:only-of-type {\n",
       "        vertical-align: middle;\n",
       "    }\n",
       "\n",
       "    .dataframe tbody tr th {\n",
       "        vertical-align: top;\n",
       "    }\n",
       "\n",
       "    .dataframe thead th {\n",
       "        text-align: right;\n",
       "    }\n",
       "</style>\n",
       "<table border=\"1\" class=\"dataframe\">\n",
       "  <thead>\n",
       "    <tr style=\"text-align: right;\">\n",
       "      <th></th>\n",
       "      <th>step</th>\n",
       "      <th>amount</th>\n",
       "      <th>oldbalanceOrg</th>\n",
       "      <th>newbalanceOrig</th>\n",
       "      <th>oldbalanceDest</th>\n",
       "      <th>newbalanceDest</th>\n",
       "      <th>isFraud</th>\n",
       "      <th>new_step</th>\n",
       "    </tr>\n",
       "  </thead>\n",
       "  <tbody>\n",
       "    <tr>\n",
       "      <th>count</th>\n",
       "      <td>2685.000000</td>\n",
       "      <td>2685.000000</td>\n",
       "      <td>2.685000e+03</td>\n",
       "      <td>2.685000e+03</td>\n",
       "      <td>2685.0</td>\n",
       "      <td>2685.0</td>\n",
       "      <td>2685.0</td>\n",
       "      <td>2685.000000</td>\n",
       "    </tr>\n",
       "    <tr>\n",
       "      <th>mean</th>\n",
       "      <td>245.724022</td>\n",
       "      <td>13026.157233</td>\n",
       "      <td>7.117456e+04</td>\n",
       "      <td>6.454826e+04</td>\n",
       "      <td>0.0</td>\n",
       "      <td>0.0</td>\n",
       "      <td>0.0</td>\n",
       "      <td>245.724022</td>\n",
       "    </tr>\n",
       "    <tr>\n",
       "      <th>std</th>\n",
       "      <td>139.910889</td>\n",
       "      <td>12123.987627</td>\n",
       "      <td>1.433390e+05</td>\n",
       "      <td>1.406753e+05</td>\n",
       "      <td>0.0</td>\n",
       "      <td>0.0</td>\n",
       "      <td>0.0</td>\n",
       "      <td>139.910889</td>\n",
       "    </tr>\n",
       "    <tr>\n",
       "      <th>min</th>\n",
       "      <td>1.000000</td>\n",
       "      <td>0.600000</td>\n",
       "      <td>0.000000e+00</td>\n",
       "      <td>0.000000e+00</td>\n",
       "      <td>0.0</td>\n",
       "      <td>0.0</td>\n",
       "      <td>0.0</td>\n",
       "      <td>1.000000</td>\n",
       "    </tr>\n",
       "    <tr>\n",
       "      <th>25%</th>\n",
       "      <td>157.000000</td>\n",
       "      <td>4380.780000</td>\n",
       "      <td>0.000000e+00</td>\n",
       "      <td>0.000000e+00</td>\n",
       "      <td>0.0</td>\n",
       "      <td>0.0</td>\n",
       "      <td>0.0</td>\n",
       "      <td>157.000000</td>\n",
       "    </tr>\n",
       "    <tr>\n",
       "      <th>50%</th>\n",
       "      <td>250.000000</td>\n",
       "      <td>9700.160000</td>\n",
       "      <td>1.058182e+04</td>\n",
       "      <td>0.000000e+00</td>\n",
       "      <td>0.0</td>\n",
       "      <td>0.0</td>\n",
       "      <td>0.0</td>\n",
       "      <td>250.000000</td>\n",
       "    </tr>\n",
       "    <tr>\n",
       "      <th>75%</th>\n",
       "      <td>334.000000</td>\n",
       "      <td>17633.050000</td>\n",
       "      <td>6.895100e+04</td>\n",
       "      <td>5.668823e+04</td>\n",
       "      <td>0.0</td>\n",
       "      <td>0.0</td>\n",
       "      <td>0.0</td>\n",
       "      <td>334.000000</td>\n",
       "    </tr>\n",
       "    <tr>\n",
       "      <th>max</th>\n",
       "      <td>718.000000</td>\n",
       "      <td>90534.240000</td>\n",
       "      <td>1.371622e+06</td>\n",
       "      <td>1.356879e+06</td>\n",
       "      <td>0.0</td>\n",
       "      <td>0.0</td>\n",
       "      <td>0.0</td>\n",
       "      <td>718.000000</td>\n",
       "    </tr>\n",
       "  </tbody>\n",
       "</table>\n",
       "</div>"
      ],
      "text/plain": [
       "              step        amount  oldbalanceOrg  newbalanceOrig  \\\n",
       "count  2685.000000   2685.000000   2.685000e+03    2.685000e+03   \n",
       "mean    245.724022  13026.157233   7.117456e+04    6.454826e+04   \n",
       "std     139.910889  12123.987627   1.433390e+05    1.406753e+05   \n",
       "min       1.000000      0.600000   0.000000e+00    0.000000e+00   \n",
       "25%     157.000000   4380.780000   0.000000e+00    0.000000e+00   \n",
       "50%     250.000000   9700.160000   1.058182e+04    0.000000e+00   \n",
       "75%     334.000000  17633.050000   6.895100e+04    5.668823e+04   \n",
       "max     718.000000  90534.240000   1.371622e+06    1.356879e+06   \n",
       "\n",
       "       oldbalanceDest  newbalanceDest  isFraud     new_step  \n",
       "count          2685.0          2685.0   2685.0  2685.000000  \n",
       "mean              0.0             0.0      0.0   245.724022  \n",
       "std               0.0             0.0      0.0   139.910889  \n",
       "min               0.0             0.0      0.0     1.000000  \n",
       "25%               0.0             0.0      0.0   157.000000  \n",
       "50%               0.0             0.0      0.0   250.000000  \n",
       "75%               0.0             0.0      0.0   334.000000  \n",
       "max               0.0             0.0      0.0   718.000000  "
      ]
     },
     "execution_count": 30,
     "metadata": {},
     "output_type": "execute_result"
    }
   ],
   "source": [
    "non_fraud_merchant.describe()"
   ]
  },
  {
   "cell_type": "markdown",
   "id": "076c5434",
   "metadata": {},
   "source": [
    "### 2.6 details of amount"
   ]
  },
  {
   "cell_type": "code",
   "execution_count": 31,
   "id": "01272e84",
   "metadata": {},
   "outputs": [
    {
     "data": {
      "text/plain": [
       "(1597, 10)"
      ]
     },
     "execution_count": 31,
     "metadata": {},
     "output_type": "execute_result"
    }
   ],
   "source": [
    "fraud[fraud['amount']<128000].shape"
   ]
  },
  {
   "cell_type": "code",
   "execution_count": 32,
   "id": "76b5fa7c",
   "metadata": {},
   "outputs": [
    {
     "data": {
      "text/plain": [
       "(714, 10)"
      ]
     },
     "execution_count": 32,
     "metadata": {},
     "output_type": "execute_result"
    }
   ],
   "source": [
    "non_fraud[non_fraud['amount']<4000].shape"
   ]
  },
  {
   "cell_type": "code",
   "execution_count": 33,
   "id": "f0be44a2",
   "metadata": {},
   "outputs": [
    {
     "data": {
      "text/plain": [
       "(1362, 10)"
      ]
     },
     "execution_count": 33,
     "metadata": {},
     "output_type": "execute_result"
    }
   ],
   "source": [
    "non_fraud[non_fraud['amount']>278000].shape"
   ]
  },
  {
   "cell_type": "markdown",
   "id": "3a06b45d",
   "metadata": {},
   "source": []
  },
  {
   "cell_type": "markdown",
   "id": "fc7798bc",
   "metadata": {},
   "source": [
    "## Outleirs "
   ]
  },
  {
   "cell_type": "code",
   "execution_count": 34,
   "id": "2bbe4038",
   "metadata": {},
   "outputs": [],
   "source": [
    "def find_boundaries(df,feature):\n",
    "    Q1=df[feature].quantile(0.25)\n",
    "    Q3=df[feature].quantile(0.75)\n",
    "    Q1=Q1.astype(np.float32)\n",
    "    Q3=Q3.astype(np.float32)\n",
    "    \n",
    "    IQR=Q3-Q1\n",
    "    ### Outlier values\n",
    "    lower_boundary=Q1-1.5*(IQR)\n",
    "    upper_boundary=Q3+1.5*(IQR)\n",
    "    \n",
    "    return lower_boundary, upper_boundary"
   ]
  },
  {
   "cell_type": "code",
   "execution_count": 35,
   "id": "515e7cec",
   "metadata": {},
   "outputs": [],
   "source": [
    "numerical_variables = ['amount']"
   ]
  },
  {
   "cell_type": "code",
   "execution_count": 36,
   "id": "5923c463",
   "metadata": {},
   "outputs": [],
   "source": [
    "## fraud \n",
    "fraud_lower_outlier_value,fraud_upper_outlier_value=find_boundaries(fraud,numerical_variables)"
   ]
  },
  {
   "cell_type": "code",
   "execution_count": 37,
   "id": "1395abe1",
   "metadata": {},
   "outputs": [
    {
     "data": {
      "text/plain": [
       "(amount   -2132770.0\n",
       " dtype: float32,\n",
       " amount    3897345.5\n",
       " dtype: float32)"
      ]
     },
     "execution_count": 37,
     "metadata": {},
     "output_type": "execute_result"
    }
   ],
   "source": [
    "fraud_lower_outlier_value,fraud_upper_outlier_value"
   ]
  },
  {
   "cell_type": "code",
   "execution_count": 38,
   "id": "1daed7e9",
   "metadata": {},
   "outputs": [],
   "source": [
    "## non fraud merchant\n",
    "non_fraud_merchant_lower_outlier_value,non_fraud_merchant_upper_outlier_value = find_boundaries(non_fraud_merchant,numerical_variables)\n"
   ]
  },
  {
   "cell_type": "code",
   "execution_count": 39,
   "id": "540826f6",
   "metadata": {},
   "outputs": [
    {
     "data": {
      "text/plain": [
       "(amount   -15497.626953\n",
       " dtype: float32,\n",
       " amount    37511.457031\n",
       " dtype: float32)"
      ]
     },
     "execution_count": 39,
     "metadata": {},
     "output_type": "execute_result"
    }
   ],
   "source": [
    "non_fraud_merchant_lower_outlier_value,non_fraud_merchant_upper_outlier_value"
   ]
  },
  {
   "cell_type": "code",
   "execution_count": 40,
   "id": "80d9abdf",
   "metadata": {},
   "outputs": [],
   "source": [
    "## non fraud customer\n",
    "non_fraud_customer_lower_outlier_value,non_fraud_customer_upper_outlier_value = find_boundaries(non_fraud_customer,numerical_variables)\n"
   ]
  },
  {
   "cell_type": "code",
   "execution_count": 41,
   "id": "7f46144f",
   "metadata": {
    "scrolled": true
   },
   "outputs": [
    {
     "data": {
      "text/plain": [
       "(amount   -225336.59375\n",
       " dtype: float32,\n",
       " amount    581515.75\n",
       " dtype: float32)"
      ]
     },
     "execution_count": 41,
     "metadata": {},
     "output_type": "execute_result"
    }
   ],
   "source": [
    "non_fraud_customer_lower_outlier_value,non_fraud_customer_upper_outlier_value"
   ]
  },
  {
   "cell_type": "code",
   "execution_count": 42,
   "id": "9e732779",
   "metadata": {},
   "outputs": [],
   "source": [
    "## non fraud customer\n",
    "non_fraud_lower_outlier_value,non_fraud_upper_outlier_value = find_boundaries(non_fraud,numerical_variables)\n"
   ]
  },
  {
   "cell_type": "code",
   "execution_count": 43,
   "id": "eddfb87b",
   "metadata": {},
   "outputs": [
    {
     "data": {
      "text/plain": [
       "(amount   -282805.65625\n",
       " dtype: float32,\n",
       " amount    508792.0\n",
       " dtype: float32)"
      ]
     },
     "execution_count": 43,
     "metadata": {},
     "output_type": "execute_result"
    }
   ],
   "source": [
    "non_fraud_lower_outlier_value,non_fraud_upper_outlier_value"
   ]
  },
  {
   "cell_type": "markdown",
   "id": "5bee03ca",
   "metadata": {},
   "source": [
    "### 3.1 calculate outliers"
   ]
  },
  {
   "cell_type": "code",
   "execution_count": 44,
   "id": "294566c1",
   "metadata": {},
   "outputs": [],
   "source": [
    "lower_outlier_value, upper_outlier_value=find_boundaries(df2,numerical_variables)"
   ]
  },
  {
   "cell_type": "code",
   "execution_count": 45,
   "id": "f537a76b",
   "metadata": {},
   "outputs": [
    {
     "data": {
      "text/plain": [
       "(amount   -604251.25\n",
       " dtype: float32,\n",
       " amount    1093343.0\n",
       " dtype: float32)"
      ]
     },
     "execution_count": 45,
     "metadata": {},
     "output_type": "execute_result"
    }
   ],
   "source": [
    "lower_outlier_value,upper_outlier_value"
   ]
  },
  {
   "cell_type": "code",
   "execution_count": 46,
   "id": "b31cbb8e",
   "metadata": {},
   "outputs": [],
   "source": [
    "#### removing outlier value from dataset\n",
    "outlier_value=np.where(df2[numerical_variables]>upper_outlier_value,upper_outlier_value,\n",
    "                      np.where(df2[numerical_variables]<lower_outlier_value,lower_outlier_value,df2[numerical_variables]))"
   ]
  },
  {
   "cell_type": "code",
   "execution_count": 47,
   "id": "84c3e093",
   "metadata": {},
   "outputs": [],
   "source": [
    "df_outliers = pd.DataFrame(outlier_value, columns=['amounts'])"
   ]
  },
  {
   "cell_type": "code",
   "execution_count": 48,
   "id": "a63541f4",
   "metadata": {},
   "outputs": [
    {
     "data": {
      "text/plain": [
       "(14519, 10)"
      ]
     },
     "execution_count": 48,
     "metadata": {},
     "output_type": "execute_result"
    }
   ],
   "source": [
    "df2.shape"
   ]
  },
  {
   "cell_type": "code",
   "execution_count": 49,
   "id": "957052c8",
   "metadata": {
    "scrolled": true
   },
   "outputs": [
    {
     "data": {
      "text/plain": [
       "((14519, 10), (14519, 1))"
      ]
     },
     "execution_count": 49,
     "metadata": {},
     "output_type": "execute_result"
    }
   ],
   "source": [
    "df2.shape,df_outliers.shape"
   ]
  },
  {
   "cell_type": "code",
   "execution_count": 50,
   "id": "9494759a",
   "metadata": {},
   "outputs": [
    {
     "data": {
      "text/plain": [
       "(13184, 11)"
      ]
     },
     "execution_count": 50,
     "metadata": {},
     "output_type": "execute_result"
    }
   ],
   "source": [
    "df3 = pd.merge(df2,df_outliers,left_index=True,right_index=True)\n",
    "df3.shape"
   ]
  },
  {
   "cell_type": "markdown",
   "id": "ec238ea1",
   "metadata": {},
   "source": [
    "## 4 Correlations"
   ]
  },
  {
   "cell_type": "code",
   "execution_count": 51,
   "id": "8ff809a5",
   "metadata": {},
   "outputs": [],
   "source": [
    "corrs = df3.corr()"
   ]
  },
  {
   "cell_type": "code",
   "execution_count": 52,
   "id": "5908aa2a",
   "metadata": {},
   "outputs": [
    {
     "data": {
      "text/plain": [
       "step               11.332240\n",
       "amount             37.794670\n",
       "oldbalanceOrg      12.840274\n",
       "newbalanceOrig    -13.140912\n",
       "oldbalanceDest     -7.774510\n",
       "newbalanceDest      0.522653\n",
       "isFraud           100.000000\n",
       "new_step           11.332240\n",
       "amounts            53.419804\n",
       "Name: isFraud, dtype: float64"
      ]
     },
     "execution_count": 52,
     "metadata": {},
     "output_type": "execute_result"
    }
   ],
   "source": [
    "# relation to fraud\n",
    "corrs['isFraud']*100"
   ]
  },
  {
   "cell_type": "code",
   "execution_count": 53,
   "id": "43062f52",
   "metadata": {},
   "outputs": [
    {
     "data": {
      "text/plain": [
       "<AxesSubplot:>"
      ]
     },
     "execution_count": 53,
     "metadata": {},
     "output_type": "execute_result"
    },
    {
     "data": {
      "image/png": "[encoded data removed]",
      "text/plain": [
       "<Figure size 640x480 with 2 Axes>"
      ]
     },
     "metadata": {},
     "output_type": "display_data"
    }
   ],
   "source": [
    "sns.heatmap(corrs,annot=True, cmap=plt.cm.CMRmap_r)"
   ]
  },
  {
   "cell_type": "markdown",
   "id": "7da26b27",
   "metadata": {},
   "source": [
    "Here we have high correlation 84% between **oldbalanceOrg and newbalanceOrig**  and  94% correlation between  **oldbalanceDest and  newbalanceDest** \n",
    "\n",
    "In here we need to remove one feature, so we calculate the correlation to **isFraud**\n",
    "\n",
    "                            step               11.332240\n",
    "                            amount             37.794670\n",
    "                            oldbalanceOrg      12.840274\n",
    "                            newbalanceOrig    -13.140912\n",
    "                            oldbalanceDest     -7.774510\n",
    "                            newbalanceDest      0.522653\n",
    "                            isFraud           100.000000\n",
    "                            new_step           11.332240\n",
    "                            amounts            53.419804\n",
    "                            Name: isFraud, dtype: float64\n",
    "- from this data, oldbalanceOrg  has high relation to 'isFraud' than newbalanceOrig. so drop the 'newbalanceOrig' feature       \n",
    "- from this data, oldbalanceDest  has high relation to 'isFraud' than newbalanceDest. so drop the 'newbalanceDest' feature    \n",
    "\n",
    "- from this data, new_step  has high relation to 'isFraud' than step. so drop the 'step' feature  \n",
    "- from this data, amounts  has high relation to 'isFraud' than amount. so drop the 'amount' feature  "
   ]
  },
  {
   "cell_type": "code",
   "execution_count": 60,
   "id": "7c10669d",
   "metadata": {},
   "outputs": [],
   "source": [
    "df4 = df3.copy()\n",
    "df4 = df3.drop(['step','amount'],axis=1)"
   ]
  },
  {
   "cell_type": "markdown",
   "id": "26677b7d",
   "metadata": {},
   "source": [
    "## 5. Preprocessing"
   ]
  },
  {
   "cell_type": "markdown",
   "id": "13086b23",
   "metadata": {},
   "source": [
    "### 5.1 One hot encording"
   ]
  },
  {
   "cell_type": "code",
   "execution_count": 61,
   "id": "824d7cc2",
   "metadata": {},
   "outputs": [],
   "source": [
    "df5 = df4.copy()\n",
    "df5 = pd.get_dummies(df5, drop_first=True)"
   ]
  },
  {
   "cell_type": "code",
   "execution_count": 62,
   "id": "96166f3a",
   "metadata": {},
   "outputs": [],
   "source": [
    "df6 = df5.copy()\n",
    "df6 = df5.drop(['newbalanceOrig','oldbalanceDest'],axis=1)"
   ]
  },
  {
   "cell_type": "markdown",
   "id": "18aeec61",
   "metadata": {},
   "source": [
    "### 5.2 Split the data train and test "
   ]
  },
  {
   "cell_type": "code",
   "execution_count": 63,
   "id": "1915a025",
   "metadata": {},
   "outputs": [],
   "source": [
    "#independent features \n",
    "x1 = df6.drop(['isFraud'],axis=1)\n",
    "\n",
    "# dependent features \n",
    "y1 = df6['isFraud']"
   ]
  },
  {
   "cell_type": "code",
   "execution_count": 64,
   "id": "b2219b3b",
   "metadata": {},
   "outputs": [],
   "source": [
    "from sklearn.model_selection import train_test_split\n",
    "from imblearn.under_sampling import NearMiss"
   ]
  },
  {
   "cell_type": "code",
   "execution_count": 65,
   "id": "70b8c06a",
   "metadata": {},
   "outputs": [],
   "source": [
    "x_resampled,y_resampled = rus.fit_resample(x1,y1)"
   ]
  },
  {
   "cell_type": "code",
   "execution_count": 66,
   "id": "3d10128d",
   "metadata": {},
   "outputs": [],
   "source": [
    "x_train,x_test, y_train, y_test = train_test_split(x_resampled,y_resampled,test_size=0.3,random_state=42,\n",
    "                                                  stratify=y_resampled,shuffle=True)\n"
   ]
  },
  {
   "cell_type": "code",
   "execution_count": 67,
   "id": "933ada83",
   "metadata": {},
   "outputs": [
    {
     "data": {
      "text/plain": [
       "1    50.0\n",
       "0    50.0\n",
       "Name: isFraud, dtype: float64"
      ]
     },
     "execution_count": 67,
     "metadata": {},
     "output_type": "execute_result"
    }
   ],
   "source": [
    "y_test.value_counts(normalize=True)*100"
   ]
  },
  {
   "cell_type": "code",
   "execution_count": 68,
   "id": "f404d23f",
   "metadata": {
    "scrolled": true
   },
   "outputs": [
    {
     "data": {
      "text/plain": [
       "1    50.0\n",
       "0    50.0\n",
       "Name: isFraud, dtype: float64"
      ]
     },
     "execution_count": 68,
     "metadata": {},
     "output_type": "execute_result"
    }
   ],
   "source": [
    "y_train.value_counts(normalize=True)*100"
   ]
  },
  {
   "cell_type": "markdown",
   "id": "b7c9c8d1",
   "metadata": {},
   "source": [
    "### 5.3  Standard scaling"
   ]
  },
  {
   "cell_type": "code",
   "execution_count": 69,
   "id": "6cc54872",
   "metadata": {},
   "outputs": [],
   "source": [
    "from sklearn.preprocessing import StandardScaler"
   ]
  },
  {
   "cell_type": "code",
   "execution_count": 70,
   "id": "9d4071fc",
   "metadata": {},
   "outputs": [],
   "source": [
    "scaler = StandardScaler()"
   ]
  },
  {
   "cell_type": "markdown",
   "id": "2692883f",
   "metadata": {},
   "source": [
    "## 6. Modeling "
   ]
  },
  {
   "cell_type": "code",
   "execution_count": 71,
   "id": "55e6bbc2",
   "metadata": {},
   "outputs": [],
   "source": [
    "from sklearn.pipeline import Pipeline\n",
    "from sklearn.model_selection import  GridSearchCV\n",
    "from sklearn.linear_model import LogisticRegression\n",
    "from sklearn.tree import DecisionTreeClassifier\n",
    "from sklearn.ensemble import RandomForestClassifier\n",
    "from sklearn.svm import SVC\n",
    "from sklearn.neighbors import KNeighborsClassifier\n",
    "from sklearn.metrics import accuracy_score,classification_report,f1_score,confusion_matrix,precision_score,recall_score,f1_score,roc_auc_score"
   ]
  },
  {
   "cell_type": "code",
   "execution_count": 88,
   "id": "756aa59c",
   "metadata": {},
   "outputs": [],
   "source": [
    "from sklearn.metrics import confusion_matrix\n",
    "from sklearn.metrics import plot_confusion_matrix\n",
    "from sklearn.model_selection import cross_val_predict"
   ]
  },
  {
   "cell_type": "code",
   "execution_count": 73,
   "id": "2079ec57",
   "metadata": {},
   "outputs": [],
   "source": [
    "from sklearn.metrics import precision_score,recall_score\n",
    "from sklearn import metrics"
   ]
  },
  {
   "cell_type": "code",
   "execution_count": 74,
   "id": "b962f14a",
   "metadata": {},
   "outputs": [],
   "source": [
    "models={'Logistic regression'     : LogisticRegression(),\n",
    "        'Random forest classifier': RandomForestClassifier(),\n",
    "        'Decision tree classifier': DecisionTreeClassifier(),\n",
    "        'Support Vector Machines' : SVC(),\n",
    "        'KNeighborsClassifier'    : KNeighborsClassifier()\n",
    "       }"
   ]
  },
  {
   "cell_type": "code",
   "execution_count": 75,
   "id": "b42c6849",
   "metadata": {},
   "outputs": [
    {
     "name": "stdout",
     "output_type": "stream",
     "text": [
      "Logistic regression___trained\n",
      "Random forest classifier___trained\n",
      "Decision tree classifier___trained\n",
      "Support Vector Machines___trained\n",
      "KNeighborsClassifier___trained\n"
     ]
    }
   ],
   "source": [
    "for name, model in models.items():\n",
    "    ### construct a pipeline\n",
    "    pipeline=Pipeline(steps=[\n",
    "        ('scaling',scaler),\n",
    "        ('Modeling',model)\n",
    "    ])\n",
    "    \n",
    "    pipeline.fit(x_train,y_train)\n",
    "    print(name+'___trained')\n",
    "    \n",
    "    \n",
    "    "
   ]
  },
  {
   "cell_type": "code",
   "execution_count": 91,
   "id": "9262a21a",
   "metadata": {
    "scrolled": false
   },
   "outputs": [
    {
     "name": "stdout",
     "output_type": "stream",
     "text": [
      "Logistic regression__accuracy score: 0.88542\n",
      "Logistic regression__precision score: 0.88604\n",
      "Logistic regression__recall_score:0.86540\n",
      "Logistic regression__f1_score:0.88308\n",
      "-------------------------------------------------------------------\n",
      "Random forest classifier__accuracy score: 0.95043\n",
      "Random forest classifier__precision score: 0.95043\n",
      "Random forest classifier__recall_score:0.94879\n",
      "Random forest classifier__f1_score:0.95035\n",
      "-------------------------------------------------------------------\n",
      "Decision tree classifier__accuracy score: 0.93204\n",
      "Decision tree classifier__precision score: 0.93210\n",
      "Decision tree classifier__recall_score:0.92646\n",
      "Decision tree classifier__f1_score:0.93166\n",
      "-------------------------------------------------------------------\n",
      "Support Vector Machines__accuracy score: 0.91202\n",
      "Support Vector Machines__precision score: 0.91486\n",
      "Support Vector Machines__recall_score:0.87065\n",
      "Support Vector Machines__f1_score:0.90822\n",
      "-------------------------------------------------------------------\n",
      "KNeighborsClassifier__accuracy score: 0.91891\n",
      "KNeighborsClassifier__precision score: 0.91958\n",
      "KNeighborsClassifier__recall_score:0.89888\n",
      "KNeighborsClassifier__f1_score:0.91725\n",
      "-------------------------------------------------------------------\n"
     ]
    },
    {
     "name": "stderr",
     "output_type": "stream",
     "text": [
      "C:\\Users\\Asus\\anaconda3\\lib\\site-packages\\sklearn\\neighbors\\_classification.py:228: FutureWarning: Unlike other reduction functions (e.g. `skew`, `kurtosis`), the default behavior of `mode` typically preserves the axis it acts along. In SciPy 1.11.0, this behavior will change: the default value of `keepdims` will become False, the `axis` over which the statistic is taken will be eliminated, and the value None will no longer be accepted. Set `keepdims` to True or False to avoid this warning.\n",
      "  mode, _ = stats.mode(_y[neigh_ind, k], axis=1)\n"
     ]
    }
   ],
   "source": [
    "for name, model in models.items():\n",
    "    ### construct a pipeline\n",
    "    pipeline=Pipeline(steps=[\n",
    "        ('scaling',scaler),\n",
    "        ('Modeling',model)\n",
    "    ])\n",
    "    \n",
    "\n",
    "    y_predictions = pipeline.predict(x_test)\n",
    "    print(name+'__accuracy score: {:.5f}'.format(accuracy_score(y_test,y_predictions)))  \n",
    "    print(name+'__precision score: {:.5f}'.format(precision_score(y_test,y_predictions, average='weighted')))  \n",
    "    print(name+'__recall_score:{:.5f}'.format(recall_score( y_test,y_predictions)))\n",
    "    print(name+'__f1_score:{:.5f}'.format(f1_score(y_test,y_predictions)))\n",
    "    print('-------------------------------------------------------------------')\n",
    "    "
   ]
  },
  {
   "cell_type": "markdown",
   "id": "dc168dde",
   "metadata": {},
   "source": [
    "from these model **Random forest classifier** has good score than other classifer model, so we select Random forest classifer"
   ]
  },
  {
   "cell_type": "markdown",
   "id": "f207a090",
   "metadata": {},
   "source": [
    "### 6.1  Plot the confusin model "
   ]
  },
  {
   "cell_type": "code",
   "execution_count": 241,
   "id": "dcd5ea32",
   "metadata": {},
   "outputs": [],
   "source": [
    "## predict and plot confusion metrix "
   ]
  },
  {
   "cell_type": "code",
   "execution_count": 92,
   "id": "ee6c4103",
   "metadata": {},
   "outputs": [],
   "source": [
    "rand_clas = RandomForestClassifier()"
   ]
  },
  {
   "cell_type": "code",
   "execution_count": 93,
   "id": "afe7d1cc",
   "metadata": {},
   "outputs": [
    {
     "data": {
      "text/plain": [
       "RandomForestClassifier()"
      ]
     },
     "execution_count": 93,
     "metadata": {},
     "output_type": "execute_result"
    }
   ],
   "source": [
    "rand_clas.fit(x_train,y_train)"
   ]
  },
  {
   "cell_type": "code",
   "execution_count": 94,
   "id": "105703cb",
   "metadata": {},
   "outputs": [],
   "source": [
    "y_predictions = rand_clas.predict(x_test)"
   ]
  },
  {
   "cell_type": "code",
   "execution_count": 95,
   "id": "e5283e98",
   "metadata": {},
   "outputs": [
    {
     "name": "stderr",
     "output_type": "stream",
     "text": [
      "C:\\Users\\Asus\\anaconda3\\lib\\site-packages\\sklearn\\utils\\deprecation.py:87: FutureWarning: Function plot_confusion_matrix is deprecated; Function `plot_confusion_matrix` is deprecated in 1.0 and will be removed in 1.2. Use one of the class methods: ConfusionMatrixDisplay.from_predictions or ConfusionMatrixDisplay.from_estimator.\n",
      "  warnings.warn(msg, category=FutureWarning)\n"
     ]
    },
    {
     "data": {
      "text/plain": [
       "<sklearn.metrics._plot.confusion_matrix.ConfusionMatrixDisplay at 0x27abc19b520>"
      ]
     },
     "execution_count": 95,
     "metadata": {},
     "output_type": "execute_result"
    },
    {
     "data": {
      "image/png": "[encoded data removed]",
      "text/plain": [
       "<Figure size 640x480 with 2 Axes>"
      ]
     },
     "metadata": {},
     "output_type": "display_data"
    }
   ],
   "source": [
    "plot_confusion_matrix(rand_clas,x_test,y_test,)"
   ]
  },
  {
   "cell_type": "markdown",
   "id": "7462f414",
   "metadata": {},
   "source": [
    "The accuracy score for the **random forest classifier** is 0.95043, which means that the model correctly **predicted 95.043%** of the samples in the test set. The **precision score is also 0.95043**, which indicates that the model has a high precision, meaning that it has a low false positive rate. The **recall score is 0.94879**, indicating that the model has a high recall, meaning that it has a low false negative rate. The **F1 score is 0.95035**, and it is a good measure of a model's balance between precision and recall. In general, these scores suggest that the random forest classifier is performing well on the dataset."
   ]
  },
  {
   "cell_type": "markdown",
   "id": "bcea1665",
   "metadata": {},
   "source": [
    "## 7. Hypertuning the parameters"
   ]
  },
  {
   "cell_type": "code",
   "execution_count": 98,
   "id": "831252bc",
   "metadata": {},
   "outputs": [],
   "source": [
    "from sklearn.model_selection import cross_val_score"
   ]
  },
  {
   "cell_type": "code",
   "execution_count": 101,
   "id": "540b22cb",
   "metadata": {},
   "outputs": [
    {
     "data": {
      "text/plain": [
       "0.9556698559854201"
      ]
     },
     "execution_count": 101,
     "metadata": {},
     "output_type": "execute_result"
    }
   ],
   "source": [
    "np.mean(cross_val_score(RandomForestClassifier(max_samples=0.75,random_state=42),x_train,y_train,cv=10))"
   ]
  },
  {
   "cell_type": "markdown",
   "id": "bf40e5a1",
   "metadata": {},
   "source": [
    "### 7.1 Gridsearch CV"
   ]
  },
  {
   "cell_type": "code",
   "execution_count": 190,
   "id": "197a4475",
   "metadata": {},
   "outputs": [],
   "source": [
    "## Number of tress in random forest\n",
    "n_estimators = [20,40,80,100,120]\n",
    "\n",
    "## Number of featues to consider at every split\n",
    "max_features = [0.1,0.2,0.4,0.6,0.8]\n",
    "\n",
    "## Max number of level in tree\n",
    "max_depth = [2,6,8,None]\n",
    "\n",
    "## Number of sample\n",
    "max_samples = [0.6,0.65,0.7,0.75,0.8,0.1]\n",
    "\n",
    "# 600 diff random forest train"
   ]
  },
  {
   "cell_type": "code",
   "execution_count": 191,
   "id": "02daa825",
   "metadata": {},
   "outputs": [
    {
     "name": "stdout",
     "output_type": "stream",
     "text": [
      "{'n_estimators': [20, 40, 80, 100, 120], 'max_features': [0.1, 0.2, 0.4, 0.6, 0.8], 'max_depth': [2, 6, 8, None], 'max_samples': [0.6, 0.65, 0.7, 0.75, 0.8, 0.1]}\n"
     ]
    }
   ],
   "source": [
    "param_grid = {'n_estimators': n_estimators,\n",
    "              'max_features': max_features,\n",
    "              'max_depth'   : max_depth,\n",
    "              'max_samples' : max_samples\n",
    "             }\n",
    "print(param_grid)"
   ]
  },
  {
   "cell_type": "code",
   "execution_count": 192,
   "id": "315046b2",
   "metadata": {},
   "outputs": [],
   "source": [
    "from sklearn.model_selection import GridSearchCV\n",
    "\n",
    "rf_grid_cv = GridSearchCV(estimator = rand_clas,\n",
    "                         param_grid = param_grid,\n",
    "                         cv = 5,\n",
    "                         verbose = 2,\n",
    "                         n_jobs = -1)"
   ]
  },
  {
   "cell_type": "code",
   "execution_count": 193,
   "id": "5f4ffd44",
   "metadata": {},
   "outputs": [
    {
     "name": "stdout",
     "output_type": "stream",
     "text": [
      "Fitting 5 folds for each of 600 candidates, totalling 3000 fits\n"
     ]
    },
    {
     "data": {
      "text/plain": [
       "GridSearchCV(cv=5, estimator=RandomForestClassifier(), n_jobs=-1,\n",
       "             param_grid={'max_depth': [2, 6, 8, None],\n",
       "                         'max_features': [0.1, 0.2, 0.4, 0.6, 0.8],\n",
       "                         'max_samples': [0.6, 0.65, 0.7, 0.75, 0.8, 0.1],\n",
       "                         'n_estimators': [20, 40, 80, 100, 120]},\n",
       "             verbose=2)"
      ]
     },
     "execution_count": 193,
     "metadata": {},
     "output_type": "execute_result"
    }
   ],
   "source": [
    "rf_grid_cv.fit(x_train,y_train)"
   ]
  },
  {
   "cell_type": "code",
   "execution_count": 194,
   "id": "7beed170",
   "metadata": {},
   "outputs": [
    {
     "data": {
      "text/plain": [
       "{'max_depth': None,\n",
       " 'max_features': 0.1,\n",
       " 'max_samples': 0.6,\n",
       " 'n_estimators': 80}"
      ]
     },
     "execution_count": 194,
     "metadata": {},
     "output_type": "execute_result"
    }
   ],
   "source": [
    "rf_grid_cv.best_params_"
   ]
  },
  {
   "cell_type": "code",
   "execution_count": 195,
   "id": "e159ae88",
   "metadata": {},
   "outputs": [
    {
     "data": {
      "text/plain": [
       "0.958767176301628"
      ]
     },
     "execution_count": 195,
     "metadata": {},
     "output_type": "execute_result"
    }
   ],
   "source": [
    "rf_grid_cv.best_score_"
   ]
  },
  {
   "cell_type": "markdown",
   "id": "929002dd",
   "metadata": {},
   "source": [
    "## Final model"
   ]
  },
  {
   "cell_type": "code",
   "execution_count": 201,
   "id": "108c6158",
   "metadata": {},
   "outputs": [],
   "source": [
    "random_class = RandomForestClassifier(n_estimators=80,\n",
    "                                      max_depth=None,\n",
    "                                      max_features=0.1,\n",
    "                                      max_samples=0.6)                                         "
   ]
  },
  {
   "cell_type": "code",
   "execution_count": 202,
   "id": "a8642ed1",
   "metadata": {},
   "outputs": [
    {
     "data": {
      "text/plain": [
       "RandomForestClassifier(max_features=0.1, max_samples=0.6, n_estimators=80)"
      ]
     },
     "execution_count": 202,
     "metadata": {},
     "output_type": "execute_result"
    }
   ],
   "source": [
    "random_class.fit(x_train,y_train)"
   ]
  },
  {
   "cell_type": "code",
   "execution_count": 203,
   "id": "a9d46580",
   "metadata": {},
   "outputs": [],
   "source": [
    "y_predictions_final = random_class.predict(x_test)"
   ]
  },
  {
   "cell_type": "code",
   "execution_count": 204,
   "id": "c905637e",
   "metadata": {},
   "outputs": [
    {
     "name": "stderr",
     "output_type": "stream",
     "text": [
      "C:\\Users\\Asus\\anaconda3\\lib\\site-packages\\sklearn\\utils\\deprecation.py:87: FutureWarning: Function plot_confusion_matrix is deprecated; Function `plot_confusion_matrix` is deprecated in 1.0 and will be removed in 1.2. Use one of the class methods: ConfusionMatrixDisplay.from_predictions or ConfusionMatrixDisplay.from_estimator.\n",
      "  warnings.warn(msg, category=FutureWarning)\n"
     ]
    },
    {
     "data": {
      "text/plain": [
       "<sklearn.metrics._plot.confusion_matrix.ConfusionMatrixDisplay at 0x279d876e040>"
      ]
     },
     "execution_count": 204,
     "metadata": {},
     "output_type": "execute_result"
    },
    {
     "data": {
      "image/png": "[encoded data removed]",
      "text/plain": [
       "<Figure size 640x480 with 2 Axes>"
      ]
     },
     "metadata": {},
     "output_type": "display_data"
    }
   ],
   "source": [
    "plot_confusion_matrix(random_class,x_test,y_test,)"
   ]
  },
  {
   "cell_type": "code",
   "execution_count": 242,
   "id": "e1068bf4",
   "metadata": {
    "scrolled": true
   },
   "outputs": [
    {
     "name": "stdout",
     "output_type": "stream",
     "text": [
      "random_forest_classifer__accuracy score: 0.95305\n",
      "random_forest_classifer__precision score: 0.95939\n",
      "random_forest_classifer__recall_score:0.94616\n",
      "random_forest_classifer__f1_score:0.95273\n"
     ]
    }
   ],
   "source": [
    "\n",
    "print('random_forest_classifer'+'__accuracy score: {:.5f}'.format(accuracy_score(y_test,y_predictions_final)))  \n",
    "print('random_forest_classifer'+'__precision score: {:.5f}'.format(precision_score(y_test,y_predictions_final)))  \n",
    "print('random_forest_classifer'+'__recall_score:{:.5f}'.format(recall_score( y_test,y_predictions_final)))\n",
    "print('random_forest_classifer'+'__f1_score:{:.5f}'.format(f1_score(y_test,y_predictions_final)))"
   ]
  },
  {
   "cell_type": "markdown",
   "id": "c4329538",
   "metadata": {},
   "source": [
    "## 8 Save  and Load Model"
   ]
  },
  {
   "cell_type": "code",
   "execution_count": 207,
   "id": "23b1dc9e",
   "metadata": {},
   "outputs": [],
   "source": [
    "import pickle"
   ]
  },
  {
   "cell_type": "code",
   "execution_count": 212,
   "id": "bac66598",
   "metadata": {},
   "outputs": [],
   "source": [
    "# save the model\n",
    "with open('random_forest_class_model1','wb') as model:\n",
    "    pickle.dump(random_class, model)"
   ]
  },
  {
   "cell_type": "code",
   "execution_count": 213,
   "id": "8882d12b",
   "metadata": {},
   "outputs": [],
   "source": [
    "# Load the model\n",
    "with open('random_forest_class_model1', 'rb') as model:\n",
    "    rf_model = pickle.load(model)"
   ]
  },
  {
   "cell_type": "code",
   "execution_count": null,
   "id": "9d1bf8b3",
   "metadata": {},
   "outputs": [],
   "source": []
  },
  {
   "cell_type": "code",
   "execution_count": 235,
   "id": "c565547d",
   "metadata": {},
   "outputs": [],
   "source": [
    "\n",
    "data = x_test.iloc[[125]]"
   ]
  },
  {
   "cell_type": "code",
   "execution_count": 236,
   "id": "fe72d8c7",
   "metadata": {},
   "outputs": [
    {
     "data": {
      "text/html": [
       "<div>\n",
       "<style scoped>\n",
       "    .dataframe tbody tr th:only-of-type {\n",
       "        vertical-align: middle;\n",
       "    }\n",
       "\n",
       "    .dataframe tbody tr th {\n",
       "        vertical-align: top;\n",
       "    }\n",
       "\n",
       "    .dataframe thead th {\n",
       "        text-align: right;\n",
       "    }\n",
       "</style>\n",
       "<table border=\"1\" class=\"dataframe\">\n",
       "  <thead>\n",
       "    <tr style=\"text-align: right;\">\n",
       "      <th></th>\n",
       "      <th>oldbalanceOrg</th>\n",
       "      <th>newbalanceDest</th>\n",
       "      <th>new_step</th>\n",
       "      <th>amounts</th>\n",
       "      <th>namestart_M</th>\n",
       "      <th>new_type_REPLACE</th>\n",
       "      <th>new_type_TRANSFER</th>\n",
       "    </tr>\n",
       "  </thead>\n",
       "  <tbody>\n",
       "    <tr>\n",
       "      <th>1332</th>\n",
       "      <td>0.0</td>\n",
       "      <td>2440391.1</td>\n",
       "      <td>140</td>\n",
       "      <td>262120.5</td>\n",
       "      <td>0</td>\n",
       "      <td>0</td>\n",
       "      <td>1</td>\n",
       "    </tr>\n",
       "  </tbody>\n",
       "</table>\n",
       "</div>"
      ],
      "text/plain": [
       "      oldbalanceOrg  newbalanceDest  new_step   amounts  namestart_M  \\\n",
       "1332            0.0       2440391.1       140  262120.5            0   \n",
       "\n",
       "      new_type_REPLACE  new_type_TRANSFER  \n",
       "1332                 0                  1  "
      ]
     },
     "execution_count": 236,
     "metadata": {},
     "output_type": "execute_result"
    }
   ],
   "source": [
    "data"
   ]
  },
  {
   "cell_type": "code",
   "execution_count": 237,
   "id": "79c2a527",
   "metadata": {
    "scrolled": true
   },
   "outputs": [
    {
     "data": {
      "text/plain": [
       "0"
      ]
     },
     "execution_count": 237,
     "metadata": {},
     "output_type": "execute_result"
    }
   ],
   "source": [
    "y_test.iloc[125]"
   ]
  },
  {
   "cell_type": "code",
   "execution_count": 238,
   "id": "9f3c4263",
   "metadata": {
    "scrolled": true
   },
   "outputs": [
    {
     "data": {
      "text/plain": [
       "0"
      ]
     },
     "execution_count": 238,
     "metadata": {},
     "output_type": "execute_result"
    }
   ],
   "source": [
    "rf_model.predict(data)[0] \n",
    "# we got the result right"
   ]
  },
  {
   "cell_type": "markdown",
   "id": "64d0d2d1",
   "metadata": {},
   "source": [
    "## 9 About Model"
   ]
  },
  {
   "cell_type": "markdown",
   "id": "9297c4d9",
   "metadata": {},
   "source": [
    "### 9.1 Describing my model"
   ]
  },
  {
   "cell_type": "markdown",
   "id": "4d9e4e33",
   "metadata": {},
   "source": [
    "The fraud detection model that I am describing is a Random Forest Classifier, which is a type of ensemble learning method that combines multiple decision trees to create a more accurate and stable model.\n",
    "\n",
    "The first step is to finding there is any missing value present in the data set. In this data there is no missing values are present. Then clean the data by perfoming outler calculation . in here there is high outlier on amount column. so clean outlier on amount colum. Then drop the unwanted column.\n",
    "\n",
    "\n",
    "Once the data is prepared, the next step is to train the model. This involves using the prepared data to train various classifer algorithums. then calculate the accuracy score, recall score, precision score and F1 score. based on scores we select high perfoming algorithm. Here **random forest classifier**.  The model is then fine-tuned using various techniques such as cross-validation and grid search to optimize the performance.\n",
    "\n",
    "Once the model is trained, it can be used to make predictions on new data(test data set). The model will take in the new data and use the trained mdoel to make a prediction about whether the transaction is fraudulent or not. It will also output a probability of the transaction being fraudulent.  \n",
    "\n",
    "The Random Forest Classifier is a powerful and flexible model that can be used for fraud detection. It is able to handle large amounts of data, handle non-linear relationships between features. Furthermore, it is less prone to overfitting than a single decision tree.\n",
    "\n",
    "It's important to note that the performance of the model will depend on the quality and relevance of the data and features used to train it, so it's important to continuously monitor the model's performance and fine-tune it as necessary."
   ]
  },
  {
   "cell_type": "markdown",
   "id": "87512eec",
   "metadata": {},
   "source": [
    "### 9.2 What are the key factors that predict fraudulent customer?"
   ]
  },
  {
   "cell_type": "markdown",
   "id": "7847911c",
   "metadata": {},
   "source": [
    "\n",
    "Most common factors that are often used to identify fraudulent activity include:\n",
    "\n",
    "- Anomalous behavior: This can include unusual spending patterns, large or unexpected transactions, or transactions that deviate from a customer's normal behavior,high amount transaction activity.\n",
    "\n",
    "- Suspicious account activity: This can include a sudden change in account information, multiple failed login attempts, or the use of multiple devices or IP addresses to access the same account.\n",
    "\n",
    "\n",
    "In addition to these factors, other information such as IP address, location, and device information can also be used to identify fraud.\n",
    "\n",
    "It's important to note that these are not definitive indicators of fraud, and a combination of factors should be used to make a decision. Fraud detection models such as Random Forest classifier can be trained using these factors to classify fraudulent customers more precisely."
   ]
  },
  {
   "cell_type": "markdown",
   "id": "bdefd2ad",
   "metadata": {},
   "source": [
    "### 9.3 What kind of prevention should be adopted while company update its infrastructure?"
   ]
  },
  {
   "cell_type": "markdown",
   "id": "f7ab101d",
   "metadata": {},
   "source": [
    "It is important to implement a variety of security measures to prevent unauthorized access and other types of security incidents. Some steps that can be taken to prevent security issues during infrastructure updates include:\n",
    "\n",
    "\n",
    "- **Data encryption:**  Encrypt sensitive data to protect it from unauthorized access. \n",
    "\n",
    "- **Data validation:**  Implement data validation mechanisms to ensure that the data used for fraud detection is accurate and complete.\n",
    "\n",
    "- **Regular monitoring:** Regularly monitor the infrastructure to detect and respond to security incidents as soon as they occur.\n",
    "\n",
    "- **Keeping software up-to-date:** Keep all software and applications up-to-date with the latest security patches and updates to prevent known vulnerabilities from being exploited.\n",
    "\n",
    "- **Keep update the model** \n",
    "\n",
    "- **Conducting regular security assessments:** it is important to conduct regular security assessments to identify potential vulnerabilities and risks.\n",
    "\n",
    "\n",
    "        \n",
    "        \n",
    "        \n",
    "        "
   ]
  },
  {
   "cell_type": "code",
   "execution_count": null,
   "id": "a53c3b71",
   "metadata": {},
   "outputs": [],
   "source": []
  }
 ],
 "metadata": {
  "kernelspec": {
   "display_name": "Python 3 (ipykernel)",
   "language": "python",
   "name": "python3"
  },
  "language_info": {
   "codemirror_mode": {
    "name": "ipython",
    "version": 3
   },
   "file_extension": ".py",
   "mimetype": "text/x-python",
   "name": "python",
   "nbconvert_exporter": "python",
   "pygments_lexer": "ipython3",
   "version": "3.9.13"
  }
 },
 "nbformat": 4,
 "nbformat_minor": 5
}
