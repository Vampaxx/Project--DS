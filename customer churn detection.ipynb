{
 "cells": [
  {
   "cell_type": "code",
   "execution_count": 1,
   "id": "799605fc",
   "metadata": {},
   "outputs": [],
   "source": [
    "import pandas as pd\n",
    "import numpy as np\n",
    "import seaborn as sns"
   ]
  },
  {
   "cell_type": "code",
   "execution_count": 2,
   "id": "f133f552",
   "metadata": {},
   "outputs": [],
   "source": [
    "df = pd.read_csv('bank.csv',sep=';')\n",
    "df = df.drop(['day'],axis=1)"
   ]
  },
  {
   "cell_type": "code",
   "execution_count": 3,
   "id": "c4fcdb43",
   "metadata": {},
   "outputs": [
    {
     "name": "stdout",
     "output_type": "stream",
     "text": [
      "<class 'pandas.core.frame.DataFrame'>\n",
      "RangeIndex: 4521 entries, 0 to 4520\n",
      "Data columns (total 16 columns):\n",
      " #   Column     Non-Null Count  Dtype \n",
      "---  ------     --------------  ----- \n",
      " 0   age        4521 non-null   int64 \n",
      " 1   job        4521 non-null   object\n",
      " 2   marital    4521 non-null   object\n",
      " 3   education  4521 non-null   object\n",
      " 4   default    4521 non-null   object\n",
      " 5   balance    4521 non-null   int64 \n",
      " 6   housing    4521 non-null   object\n",
      " 7   loan       4521 non-null   object\n",
      " 8   contact    4521 non-null   object\n",
      " 9   month      4521 non-null   object\n",
      " 10  duration   4521 non-null   int64 \n",
      " 11  campaign   4521 non-null   int64 \n",
      " 12  pdays      4521 non-null   int64 \n",
      " 13  previous   4521 non-null   int64 \n",
      " 14  poutcome   4521 non-null   object\n",
      " 15  y          4521 non-null   object\n",
      "dtypes: int64(6), object(10)\n",
      "memory usage: 565.2+ KB\n"
     ]
    }
   ],
   "source": [
    "df.info()"
   ]
  },
  {
   "cell_type": "code",
   "execution_count": 4,
   "id": "a4140aff",
   "metadata": {},
   "outputs": [
    {
     "data": {
      "text/plain": [
       "age          0\n",
       "job          0\n",
       "marital      0\n",
       "education    0\n",
       "default      0\n",
       "balance      0\n",
       "housing      0\n",
       "loan         0\n",
       "contact      0\n",
       "month        0\n",
       "duration     0\n",
       "campaign     0\n",
       "pdays        0\n",
       "previous     0\n",
       "poutcome     0\n",
       "y            0\n",
       "dtype: int64"
      ]
     },
     "execution_count": 4,
     "metadata": {},
     "output_type": "execute_result"
    }
   ],
   "source": [
    "## checking null values\n",
    "df.isnull().sum()"
   ]
  },
  {
   "cell_type": "markdown",
   "id": "1ab9e04b",
   "metadata": {},
   "source": [
    "## 1. Data preprocessing"
   ]
  },
  {
   "cell_type": "code",
   "execution_count": 5,
   "id": "3dcd043f",
   "metadata": {},
   "outputs": [
    {
     "data": {
      "text/plain": [
       "management       969\n",
       "blue-collar      946\n",
       "technician       768\n",
       "admin.           478\n",
       "services         417\n",
       "retired          230\n",
       "self-employed    183\n",
       "entrepreneur     168\n",
       "unemployed       128\n",
       "housemaid        112\n",
       "student           84\n",
       "unknown           38\n",
       "Name: job, dtype: int64"
      ]
     },
     "execution_count": 5,
     "metadata": {},
     "output_type": "execute_result"
    }
   ],
   "source": [
    "## job\n",
    "df['job'].value_counts()"
   ]
  },
  {
   "cell_type": "code",
   "execution_count": 6,
   "id": "9e1854a4",
   "metadata": {},
   "outputs": [],
   "source": [
    "job_stats = df['job'].value_counts().sort_values(ascending=True)>200\n",
    "job_count_greater_than_200 = job_stats[job_stats].index.to_list()\n"
   ]
  },
  {
   "cell_type": "code",
   "execution_count": 7,
   "id": "b9e597e7",
   "metadata": {},
   "outputs": [],
   "source": [
    "df['job'] = df['job'].apply(lambda x: x if x in job_count_greater_than_200 else 'other')"
   ]
  },
  {
   "cell_type": "code",
   "execution_count": 8,
   "id": "2a7e99da",
   "metadata": {},
   "outputs": [
    {
     "data": {
      "text/plain": [
       "may    1398\n",
       "jul     706\n",
       "aug     633\n",
       "jun     531\n",
       "nov     389\n",
       "apr     293\n",
       "feb     222\n",
       "jan     148\n",
       "oct      80\n",
       "sep      52\n",
       "mar      49\n",
       "dec      20\n",
       "Name: month, dtype: int64"
      ]
     },
     "execution_count": 8,
     "metadata": {},
     "output_type": "execute_result"
    }
   ],
   "source": [
    "## month \n",
    "\n",
    "df['month'].value_counts()"
   ]
  },
  {
   "cell_type": "code",
   "execution_count": 9,
   "id": "6834cf10",
   "metadata": {},
   "outputs": [],
   "source": [
    "month_stat= df['month'].value_counts()>250\n",
    "month_df_greater_than_250= month_stat[month_stat].index.to_list()"
   ]
  },
  {
   "cell_type": "code",
   "execution_count": 10,
   "id": "328f0876",
   "metadata": {},
   "outputs": [
    {
     "data": {
      "text/plain": [
       "may            1398\n",
       "jul             706\n",
       "aug             633\n",
       "other_month     571\n",
       "jun             531\n",
       "nov             389\n",
       "apr             293\n",
       "Name: month, dtype: int64"
      ]
     },
     "execution_count": 10,
     "metadata": {},
     "output_type": "execute_result"
    }
   ],
   "source": [
    "df['month'] = df['month'].apply(lambda x: x if x in month_df_greater_than_250 else 'other_month')\n",
    "df['month'].value_counts()"
   ]
  },
  {
   "cell_type": "markdown",
   "id": "fc73e824",
   "metadata": {},
   "source": [
    "### 1.1 categorical and numerical features"
   ]
  },
  {
   "cell_type": "code",
   "execution_count": 11,
   "id": "8a468d70",
   "metadata": {},
   "outputs": [],
   "source": [
    "## categorical_features\n",
    "categorical_features = [feature for feature in df.columns if df[feature].dtype == 'O']\n",
    "cat_df = df[categorical_features]\n",
    "\n",
    "## numerical_features\n",
    "numerical_features = [feature for feature in df.columns if df[feature].dtype != 'O']\n",
    "num_df = df[numerical_features]"
   ]
  },
  {
   "cell_type": "code",
   "execution_count": 12,
   "id": "ab624480",
   "metadata": {},
   "outputs": [],
   "source": [
    "## label encoding\n",
    "def label_encoding(data, feature):\n",
    "    ordinal_label = {k:i for i,k in enumerate(data[feature].unique())}\n",
    "    encoded = data[feature].map(ordinal_label)\n",
    "    return encoded"
   ]
  },
  {
   "cell_type": "code",
   "execution_count": 13,
   "id": "7b83ba80",
   "metadata": {},
   "outputs": [
    {
     "data": {
      "text/plain": [
       "10"
      ]
     },
     "execution_count": 13,
     "metadata": {},
     "output_type": "execute_result"
    }
   ],
   "source": [
    "len(categorical_features)"
   ]
  },
  {
   "cell_type": "code",
   "execution_count": 14,
   "id": "24c7478f",
   "metadata": {},
   "outputs": [],
   "source": [
    "## label encode before do chi square test\n",
    "df1 = df.copy()\n",
    "df1['job'] = label_encoding(df,'job' )\n",
    "df1['marital'] = label_encoding(df,'marital' )\n",
    "df1['education'] = label_encoding(df,'education' )\n",
    "df1['default'] = label_encoding(df,'default' )\n",
    "df1['housing'] = label_encoding(df,'housing' )\n",
    "df1['loan'] = label_encoding(df,'loan' )\n",
    "df1['poutcome'] = label_encoding(df,'poutcome' )\n",
    "df1['month'] = label_encoding(df,'month' )\n",
    "df1['y'] = label_encoding(df,'y' )"
   ]
  },
  {
   "cell_type": "code",
   "execution_count": 15,
   "id": "9cf1f17a",
   "metadata": {},
   "outputs": [
    {
     "data": {
      "text/html": [
       "<div>\n",
       "<style scoped>\n",
       "    .dataframe tbody tr th:only-of-type {\n",
       "        vertical-align: middle;\n",
       "    }\n",
       "\n",
       "    .dataframe tbody tr th {\n",
       "        vertical-align: top;\n",
       "    }\n",
       "\n",
       "    .dataframe thead th {\n",
       "        text-align: right;\n",
       "    }\n",
       "</style>\n",
       "<table border=\"1\" class=\"dataframe\">\n",
       "  <thead>\n",
       "    <tr style=\"text-align: right;\">\n",
       "      <th></th>\n",
       "      <th>age</th>\n",
       "      <th>job</th>\n",
       "      <th>marital</th>\n",
       "      <th>education</th>\n",
       "      <th>default</th>\n",
       "      <th>balance</th>\n",
       "      <th>housing</th>\n",
       "      <th>loan</th>\n",
       "      <th>contact</th>\n",
       "      <th>month</th>\n",
       "      <th>duration</th>\n",
       "      <th>campaign</th>\n",
       "      <th>pdays</th>\n",
       "      <th>previous</th>\n",
       "      <th>poutcome</th>\n",
       "      <th>y</th>\n",
       "    </tr>\n",
       "  </thead>\n",
       "  <tbody>\n",
       "    <tr>\n",
       "      <th>0</th>\n",
       "      <td>30</td>\n",
       "      <td>0</td>\n",
       "      <td>0</td>\n",
       "      <td>0</td>\n",
       "      <td>0</td>\n",
       "      <td>1787</td>\n",
       "      <td>0</td>\n",
       "      <td>0</td>\n",
       "      <td>cellular</td>\n",
       "      <td>0</td>\n",
       "      <td>79</td>\n",
       "      <td>1</td>\n",
       "      <td>-1</td>\n",
       "      <td>0</td>\n",
       "      <td>0</td>\n",
       "      <td>0</td>\n",
       "    </tr>\n",
       "    <tr>\n",
       "      <th>1</th>\n",
       "      <td>33</td>\n",
       "      <td>1</td>\n",
       "      <td>0</td>\n",
       "      <td>1</td>\n",
       "      <td>0</td>\n",
       "      <td>4789</td>\n",
       "      <td>1</td>\n",
       "      <td>1</td>\n",
       "      <td>cellular</td>\n",
       "      <td>1</td>\n",
       "      <td>220</td>\n",
       "      <td>1</td>\n",
       "      <td>339</td>\n",
       "      <td>4</td>\n",
       "      <td>1</td>\n",
       "      <td>0</td>\n",
       "    </tr>\n",
       "    <tr>\n",
       "      <th>2</th>\n",
       "      <td>35</td>\n",
       "      <td>2</td>\n",
       "      <td>1</td>\n",
       "      <td>2</td>\n",
       "      <td>0</td>\n",
       "      <td>1350</td>\n",
       "      <td>1</td>\n",
       "      <td>0</td>\n",
       "      <td>cellular</td>\n",
       "      <td>2</td>\n",
       "      <td>185</td>\n",
       "      <td>1</td>\n",
       "      <td>330</td>\n",
       "      <td>1</td>\n",
       "      <td>1</td>\n",
       "      <td>0</td>\n",
       "    </tr>\n",
       "    <tr>\n",
       "      <th>3</th>\n",
       "      <td>30</td>\n",
       "      <td>2</td>\n",
       "      <td>0</td>\n",
       "      <td>2</td>\n",
       "      <td>0</td>\n",
       "      <td>1476</td>\n",
       "      <td>1</td>\n",
       "      <td>1</td>\n",
       "      <td>unknown</td>\n",
       "      <td>3</td>\n",
       "      <td>199</td>\n",
       "      <td>4</td>\n",
       "      <td>-1</td>\n",
       "      <td>0</td>\n",
       "      <td>0</td>\n",
       "      <td>0</td>\n",
       "    </tr>\n",
       "    <tr>\n",
       "      <th>4</th>\n",
       "      <td>59</td>\n",
       "      <td>3</td>\n",
       "      <td>0</td>\n",
       "      <td>1</td>\n",
       "      <td>0</td>\n",
       "      <td>0</td>\n",
       "      <td>1</td>\n",
       "      <td>0</td>\n",
       "      <td>unknown</td>\n",
       "      <td>1</td>\n",
       "      <td>226</td>\n",
       "      <td>1</td>\n",
       "      <td>-1</td>\n",
       "      <td>0</td>\n",
       "      <td>0</td>\n",
       "      <td>0</td>\n",
       "    </tr>\n",
       "  </tbody>\n",
       "</table>\n",
       "</div>"
      ],
      "text/plain": [
       "   age  job  marital  education  default  balance  housing  loan   contact  \\\n",
       "0   30    0        0          0        0     1787        0     0  cellular   \n",
       "1   33    1        0          1        0     4789        1     1  cellular   \n",
       "2   35    2        1          2        0     1350        1     0  cellular   \n",
       "3   30    2        0          2        0     1476        1     1   unknown   \n",
       "4   59    3        0          1        0        0        1     0   unknown   \n",
       "\n",
       "   month  duration  campaign  pdays  previous  poutcome  y  \n",
       "0      0        79         1     -1         0         0  0  \n",
       "1      1       220         1    339         4         1  0  \n",
       "2      2       185         1    330         1         1  0  \n",
       "3      3       199         4     -1         0         0  0  \n",
       "4      1       226         1     -1         0         0  0  "
      ]
     },
     "execution_count": 15,
     "metadata": {},
     "output_type": "execute_result"
    }
   ],
   "source": [
    "df1.head()"
   ]
  },
  {
   "cell_type": "markdown",
   "id": "f18a86ce",
   "metadata": {},
   "source": [
    "## 2. Outliers remove"
   ]
  },
  {
   "cell_type": "markdown",
   "id": "09bb2965",
   "metadata": {},
   "source": [
    "### 2.1 Marital and Age relation"
   ]
  },
  {
   "cell_type": "code",
   "execution_count": 16,
   "id": "bf3add97",
   "metadata": {
    "scrolled": false
   },
   "outputs": [
    {
     "data": {
      "text/plain": [
       "<AxesSubplot:title={'center':'age'}, xlabel='marital'>"
      ]
     },
     "execution_count": 16,
     "metadata": {},
     "output_type": "execute_result"
    },
    {
     "data": {
      "image/png": "[encoded data removed]",
      "text/plain": [
       "<Figure size 640x480 with 1 Axes>"
      ]
     },
     "metadata": {},
     "output_type": "display_data"
    }
   ],
   "source": [
    "df.boxplot('age',by = 'marital')"
   ]
  },
  {
   "cell_type": "code",
   "execution_count": 17,
   "id": "e9064299",
   "metadata": {},
   "outputs": [],
   "source": [
    "## there is relation between age and martial status, so outliers should remove from this "
   ]
  },
  {
   "cell_type": "code",
   "execution_count": 18,
   "id": "e8df5370",
   "metadata": {},
   "outputs": [],
   "source": [
    "def remove_outliers_age_marital(data):\n",
    "    df_out = pd.DataFrame()\n",
    "    for key,subkey in data.groupby('marital'):\n",
    "        m   = np.mean(subkey['age'])\n",
    "        std = np.std (subkey['age'])\n",
    "        \n",
    "        removed_df = subkey[(subkey['age']>(m -2*std)) & (subkey['age']<(m + 2*std))]\n",
    "        df_out = pd.concat([df_out,removed_df], ignore_index=True)\n",
    "        \n",
    "    return df_out"
   ]
  },
  {
   "cell_type": "code",
   "execution_count": 19,
   "id": "e865f572",
   "metadata": {},
   "outputs": [],
   "source": [
    "df2 = remove_outliers_age_marital(df)\n"
   ]
  },
  {
   "cell_type": "code",
   "execution_count": 20,
   "id": "b3aae34a",
   "metadata": {
    "scrolled": false
   },
   "outputs": [
    {
     "data": {
      "text/plain": [
       "<AxesSubplot:title={'center':'age'}, xlabel='marital'>"
      ]
     },
     "execution_count": 20,
     "metadata": {},
     "output_type": "execute_result"
    },
    {
     "data": {
      "image/png": "[encoded data removed]",
      "text/plain": [
       "<Figure size 640x480 with 1 Axes>"
      ]
     },
     "metadata": {},
     "output_type": "display_data"
    }
   ],
   "source": [
    "df2.boxplot('age',by = 'marital')"
   ]
  },
  {
   "cell_type": "markdown",
   "id": "078c57ed",
   "metadata": {},
   "source": [
    "### 2.2 Balance, poutcome, campaign and y"
   ]
  },
  {
   "cell_type": "code",
   "execution_count": 21,
   "id": "56bc37aa",
   "metadata": {},
   "outputs": [],
   "source": [
    "import matplotlib.pyplot as plt\n",
    "%matplotlib inline\n",
    "sns.set_theme(style=\"ticks\", color_codes=True)"
   ]
  },
  {
   "cell_type": "code",
   "execution_count": 22,
   "id": "a0153828",
   "metadata": {},
   "outputs": [],
   "source": [
    "def plot_scatter_chart(df,poutcome):\n",
    "    \n",
    "    outcome_1 = df[(df.poutcome==poutcome) &(df2.campaign == 1)]\n",
    "    outcome_2 = df[(df.poutcome==poutcome) &((df2['campaign']>=2) & (df2['campaign']<=4))]\n",
    "    outcome_3 = df[(df.poutcome==poutcome) &(df2.campaign >= 5)]\n",
    "    \n",
    "    \n",
    "    plt.rcParams['figure.figsize']=(8,6)\n",
    "    plt.scatter( outcome_1.y, outcome_1.balance , color='blue', label='outcome_1',s=50)\n",
    "    plt.scatter( outcome_2.y, outcome_2.balance , marker= '+' , color='green',label='outcome_2,3,4',s=60)\n",
    "    plt.scatter( outcome_3.y, outcome_3.balance , marker= '*' , color='red',label='outcome_greater_5',s=40)\n",
    "    \n",
    "    plt.xlabel('campaign')\n",
    "    plt.ylabel('balance')\n",
    "    plt.title(poutcome)\n",
    "    plt.legend()"
   ]
  },
  {
   "cell_type": "code",
   "execution_count": 23,
   "id": "b4552c78",
   "metadata": {},
   "outputs": [
    {
     "data": {
      "image/png": "[encoded data removed]",
      "text/plain": [
       "<Figure size 800x600 with 1 Axes>"
      ]
     },
     "metadata": {},
     "output_type": "display_data"
    }
   ],
   "source": [
    "plot_scatter_chart(df2, 'success')"
   ]
  },
  {
   "cell_type": "code",
   "execution_count": 24,
   "id": "14de7e27",
   "metadata": {},
   "outputs": [
    {
     "data": {
      "image/png": "[encoded data removed]",
      "text/plain": [
       "<Figure size 800x600 with 1 Axes>"
      ]
     },
     "metadata": {},
     "output_type": "display_data"
    }
   ],
   "source": [
    "plot_scatter_chart(df2, 'unknown')"
   ]
  },
  {
   "cell_type": "code",
   "execution_count": 25,
   "id": "2ca2cc8b",
   "metadata": {},
   "outputs": [
    {
     "data": {
      "image/png": "[encoded data removed]",
      "text/plain": [
       "<Figure size 800x600 with 1 Axes>"
      ]
     },
     "metadata": {},
     "output_type": "display_data"
    }
   ],
   "source": [
    "plot_scatter_chart(df2, 'failure')"
   ]
  },
  {
   "cell_type": "code",
   "execution_count": 26,
   "id": "55ed37df",
   "metadata": {},
   "outputs": [
    {
     "data": {
      "image/png": "[encoded data removed]",
      "text/plain": [
       "<Figure size 800x600 with 1 Axes>"
      ]
     },
     "metadata": {},
     "output_type": "display_data"
    }
   ],
   "source": [
    "plot_scatter_chart(df2, 'other')"
   ]
  },
  {
   "cell_type": "code",
   "execution_count": 27,
   "id": "1997cc18",
   "metadata": {},
   "outputs": [],
   "source": [
    "##  Outliers present in each category "
   ]
  },
  {
   "cell_type": "code",
   "execution_count": 28,
   "id": "12fefb68",
   "metadata": {},
   "outputs": [],
   "source": [
    "unkown_df = df2[df2['poutcome'] == 'unknown']\n",
    "failure_df = df2[df2['poutcome'] == 'failure']\n",
    "success_df = df2[df2['poutcome'] == 'success']\n",
    "other_df = df2[df2['poutcome'] == 'other']"
   ]
  },
  {
   "cell_type": "code",
   "execution_count": 29,
   "id": "f3e3e8aa",
   "metadata": {},
   "outputs": [],
   "source": [
    "unkown_df_yes = unkown_df[unkown_df['y'] == 'yes']\n",
    "unkown_df_no = unkown_df[unkown_df['y'] == 'no']\n",
    "\n",
    "failure_df_yes = failure_df[failure_df['y'] == 'yes']\n",
    "failure_df_no = failure_df[failure_df['y'] == 'no']\n",
    "\n",
    "success_df_yes = success_df[success_df['y'] == 'yes']\n",
    "success_df_no = success_df[success_df['y'] == 'no']\n",
    "\n",
    "other_df_yes = other_df[other_df['y'] == 'yes']\n",
    "other_df_no = other_df[other_df['y'] == 'no']"
   ]
  },
  {
   "cell_type": "code",
   "execution_count": 30,
   "id": "c59957c1",
   "metadata": {},
   "outputs": [],
   "source": [
    "success_df = success_df[~((success_df['balance']>4000) & (success_df['campaign']>4))]"
   ]
  },
  {
   "cell_type": "code",
   "execution_count": 31,
   "id": "acf4ac8d",
   "metadata": {},
   "outputs": [],
   "source": [
    "failure_df = failure_df[~((failure_df['balance']>10000) & (failure_df['campaign']>3))]"
   ]
  },
  {
   "cell_type": "code",
   "execution_count": 32,
   "id": "79b84845",
   "metadata": {},
   "outputs": [],
   "source": [
    "unkown_df = unkown_df[~((unkown_df['balance']>25000) & (unkown_df['campaign'] > 3)) ]"
   ]
  },
  {
   "cell_type": "code",
   "execution_count": 33,
   "id": "7724a9ca",
   "metadata": {},
   "outputs": [],
   "source": [
    "other_df_yes = other_df_yes[~((other_df_yes['balance']>4000) & (other_df_yes['campaign']>4))]"
   ]
  },
  {
   "cell_type": "code",
   "execution_count": 34,
   "id": "8d1a6863",
   "metadata": {},
   "outputs": [],
   "source": [
    "other_df_no = other_df_no[~((other_df_no['balance']>6000) & (other_df_no['campaign']>4))]"
   ]
  },
  {
   "cell_type": "code",
   "execution_count": 35,
   "id": "2a325523",
   "metadata": {},
   "outputs": [],
   "source": [
    "## Concat all data"
   ]
  },
  {
   "cell_type": "code",
   "execution_count": 36,
   "id": "1daa726c",
   "metadata": {},
   "outputs": [],
   "source": [
    "df3 = df2.copy()"
   ]
  },
  {
   "cell_type": "code",
   "execution_count": 37,
   "id": "6e6365dd",
   "metadata": {},
   "outputs": [],
   "source": [
    "df3 = pd.concat([unkown_df,failure_df,other_df_no,other_df_yes,success_df])\n"
   ]
  },
  {
   "cell_type": "markdown",
   "id": "5f067568",
   "metadata": {},
   "source": [
    "### 2.3 Job and age relation"
   ]
  },
  {
   "cell_type": "code",
   "execution_count": 38,
   "id": "bf503144",
   "metadata": {},
   "outputs": [
    {
     "data": {
      "text/plain": [
       "<AxesSubplot:title={'center':'age'}, xlabel='job'>"
      ]
     },
     "execution_count": 38,
     "metadata": {},
     "output_type": "execute_result"
    },
    {
     "data": {
      "image/png": "[encoded data removed]",
      "text/plain": [
       "<Figure size 800x600 with 1 Axes>"
      ]
     },
     "metadata": {},
     "output_type": "display_data"
    }
   ],
   "source": [
    "df3.boxplot('age',by = 'job')"
   ]
  },
  {
   "cell_type": "markdown",
   "id": "52701fd9",
   "metadata": {},
   "source": [
    "#### Retired has some outliers, "
   ]
  },
  {
   "cell_type": "code",
   "execution_count": 39,
   "id": "3d32a5f8",
   "metadata": {},
   "outputs": [],
   "source": [
    "def remove_outliers_age_job(data):\n",
    "    df_out = pd.DataFrame()\n",
    "    for key,subkey in data.groupby('job'):\n",
    "        m   = np.mean(subkey['age'])\n",
    "        std = np.std (subkey['age'])\n",
    "        \n",
    "        removed_df = subkey[(subkey['age']>(m -2*std)) & (subkey['age']<(m + 2*std))]\n",
    "        df_out = pd.concat([df_out,removed_df], ignore_index=True)\n",
    "        \n",
    "    return df_out"
   ]
  },
  {
   "cell_type": "code",
   "execution_count": 40,
   "id": "2c4bd309",
   "metadata": {},
   "outputs": [],
   "source": [
    "df3 = remove_outliers_age_job(df)"
   ]
  },
  {
   "cell_type": "markdown",
   "id": "320abbff",
   "metadata": {},
   "source": [
    "## 3. Statistical approch"
   ]
  },
  {
   "cell_type": "code",
   "execution_count": 41,
   "id": "fa4b2da0",
   "metadata": {},
   "outputs": [],
   "source": [
    "## label encode before do chi square test\n",
    "df4 = df3.copy()\n",
    "\n",
    "df4['job'] = label_encoding(df3,'job' )\n",
    "df4['marital'] = label_encoding(df3,'marital' )\n",
    "df4['education'] = label_encoding(df3,'education' )\n",
    "df4['default'] = label_encoding(df3,'default' )\n",
    "df4['housing'] = label_encoding(df3,'housing' )\n",
    "df4['loan'] = label_encoding(df3,'loan' )\n",
    "df4['poutcome'] = label_encoding(df3,'poutcome' )\n",
    "df4['month'] = label_encoding(df3,'month' )\n",
    "df4['contact'] = label_encoding(df3,'contact' )\n",
    "df4['y'] = label_encoding(df3,'y' )"
   ]
  },
  {
   "cell_type": "markdown",
   "id": "8d72b2f5",
   "metadata": {},
   "source": [
    "### 3.1chi sqaured test"
   ]
  },
  {
   "cell_type": "code",
   "execution_count": 42,
   "id": "3ad7dd50",
   "metadata": {},
   "outputs": [
    {
     "data": {
      "text/html": [
       "<div>\n",
       "<style scoped>\n",
       "    .dataframe tbody tr th:only-of-type {\n",
       "        vertical-align: middle;\n",
       "    }\n",
       "\n",
       "    .dataframe tbody tr th {\n",
       "        vertical-align: top;\n",
       "    }\n",
       "\n",
       "    .dataframe thead th {\n",
       "        text-align: right;\n",
       "    }\n",
       "</style>\n",
       "<table border=\"1\" class=\"dataframe\">\n",
       "  <thead>\n",
       "    <tr style=\"text-align: right;\">\n",
       "      <th></th>\n",
       "      <th>age</th>\n",
       "      <th>job</th>\n",
       "      <th>marital</th>\n",
       "      <th>education</th>\n",
       "      <th>default</th>\n",
       "      <th>balance</th>\n",
       "      <th>housing</th>\n",
       "      <th>loan</th>\n",
       "      <th>contact</th>\n",
       "      <th>month</th>\n",
       "      <th>duration</th>\n",
       "      <th>campaign</th>\n",
       "      <th>pdays</th>\n",
       "      <th>previous</th>\n",
       "      <th>poutcome</th>\n",
       "      <th>y</th>\n",
       "    </tr>\n",
       "  </thead>\n",
       "  <tbody>\n",
       "    <tr>\n",
       "      <th>0</th>\n",
       "      <td>43</td>\n",
       "      <td>0</td>\n",
       "      <td>0</td>\n",
       "      <td>0</td>\n",
       "      <td>0</td>\n",
       "      <td>264</td>\n",
       "      <td>0</td>\n",
       "      <td>0</td>\n",
       "      <td>0</td>\n",
       "      <td>0</td>\n",
       "      <td>113</td>\n",
       "      <td>2</td>\n",
       "      <td>-1</td>\n",
       "      <td>0</td>\n",
       "      <td>0</td>\n",
       "      <td>0</td>\n",
       "    </tr>\n",
       "    <tr>\n",
       "      <th>1</th>\n",
       "      <td>37</td>\n",
       "      <td>0</td>\n",
       "      <td>1</td>\n",
       "      <td>1</td>\n",
       "      <td>0</td>\n",
       "      <td>2317</td>\n",
       "      <td>0</td>\n",
       "      <td>0</td>\n",
       "      <td>0</td>\n",
       "      <td>0</td>\n",
       "      <td>114</td>\n",
       "      <td>1</td>\n",
       "      <td>152</td>\n",
       "      <td>2</td>\n",
       "      <td>1</td>\n",
       "      <td>0</td>\n",
       "    </tr>\n",
       "    <tr>\n",
       "      <th>2</th>\n",
       "      <td>53</td>\n",
       "      <td>0</td>\n",
       "      <td>0</td>\n",
       "      <td>0</td>\n",
       "      <td>0</td>\n",
       "      <td>105</td>\n",
       "      <td>1</td>\n",
       "      <td>1</td>\n",
       "      <td>0</td>\n",
       "      <td>1</td>\n",
       "      <td>74</td>\n",
       "      <td>2</td>\n",
       "      <td>-1</td>\n",
       "      <td>0</td>\n",
       "      <td>0</td>\n",
       "      <td>0</td>\n",
       "    </tr>\n",
       "    <tr>\n",
       "      <th>3</th>\n",
       "      <td>42</td>\n",
       "      <td>0</td>\n",
       "      <td>2</td>\n",
       "      <td>0</td>\n",
       "      <td>0</td>\n",
       "      <td>1811</td>\n",
       "      <td>0</td>\n",
       "      <td>0</td>\n",
       "      <td>1</td>\n",
       "      <td>2</td>\n",
       "      <td>150</td>\n",
       "      <td>1</td>\n",
       "      <td>-1</td>\n",
       "      <td>0</td>\n",
       "      <td>0</td>\n",
       "      <td>0</td>\n",
       "    </tr>\n",
       "    <tr>\n",
       "      <th>4</th>\n",
       "      <td>48</td>\n",
       "      <td>0</td>\n",
       "      <td>0</td>\n",
       "      <td>0</td>\n",
       "      <td>0</td>\n",
       "      <td>3064</td>\n",
       "      <td>0</td>\n",
       "      <td>0</td>\n",
       "      <td>2</td>\n",
       "      <td>3</td>\n",
       "      <td>159</td>\n",
       "      <td>2</td>\n",
       "      <td>-1</td>\n",
       "      <td>0</td>\n",
       "      <td>0</td>\n",
       "      <td>0</td>\n",
       "    </tr>\n",
       "  </tbody>\n",
       "</table>\n",
       "</div>"
      ],
      "text/plain": [
       "   age  job  marital  education  default  balance  housing  loan  contact  \\\n",
       "0   43    0        0          0        0      264        0     0        0   \n",
       "1   37    0        1          1        0     2317        0     0        0   \n",
       "2   53    0        0          0        0      105        1     1        0   \n",
       "3   42    0        2          0        0     1811        0     0        1   \n",
       "4   48    0        0          0        0     3064        0     0        2   \n",
       "\n",
       "   month  duration  campaign  pdays  previous  poutcome  y  \n",
       "0      0       113         2     -1         0         0  0  \n",
       "1      0       114         1    152         2         1  0  \n",
       "2      1        74         2     -1         0         0  0  \n",
       "3      2       150         1     -1         0         0  0  \n",
       "4      3       159         2     -1         0         0  0  "
      ]
     },
     "execution_count": 42,
     "metadata": {},
     "output_type": "execute_result"
    }
   ],
   "source": [
    "df4.head()"
   ]
  },
  {
   "cell_type": "code",
   "execution_count": 43,
   "id": "6418bcf7",
   "metadata": {},
   "outputs": [],
   "source": [
    "from sklearn.model_selection import train_test_split\n",
    "x_train_chi, x_test_chi,  y_train_chi, y_test_chi  = train_test_split( df4[['job','marital','education','default','housing','loan','contact','month','poutcome']] ,\n",
    "                                                      df4['y'],\n",
    "                                                      test_size=0.3,\n",
    "                                                      stratify=df4['y'],\n",
    "                                                      random_state=42)"
   ]
  },
  {
   "cell_type": "code",
   "execution_count": 44,
   "id": "a633a537",
   "metadata": {},
   "outputs": [],
   "source": [
    "from sklearn.feature_selection import chi2\n",
    "f_p_value = chi2(x_train_chi,y_train_chi)"
   ]
  },
  {
   "cell_type": "code",
   "execution_count": 45,
   "id": "d4d20c32",
   "metadata": {},
   "outputs": [
    {
     "data": {
      "text/plain": [
       "(array([2.84336415e+00, 1.04472899e+01, 9.27878428e-01, 2.06155344e-01,\n",
       "        1.32471185e+01, 1.79148229e+01, 2.03079475e+01, 8.24131261e-01,\n",
       "        2.62925017e+02]),\n",
       " array([9.17519338e-02, 1.22829540e-03, 3.35414822e-01, 6.49797642e-01,\n",
       "        2.72999202e-04, 2.31014838e-05, 6.59261750e-06, 3.63975045e-01,\n",
       "        3.95317233e-59]))"
      ]
     },
     "execution_count": 45,
     "metadata": {},
     "output_type": "execute_result"
    }
   ],
   "source": [
    "## chi2 return 2 values\n",
    "## f score, p_value\n",
    "f_p_value"
   ]
  },
  {
   "cell_type": "code",
   "execution_count": 46,
   "id": "fd704bca",
   "metadata": {},
   "outputs": [],
   "source": [
    "# high f value has more important feature\n",
    "# lesser the p value more important feature \n",
    "f_value = pd.Series(f_p_value[0])\n",
    "p_value = pd.Series(f_p_value[1])"
   ]
  },
  {
   "cell_type": "code",
   "execution_count": 47,
   "id": "d04e3cf5",
   "metadata": {},
   "outputs": [
    {
     "data": {
      "text/plain": [
       "job          9.175193e-02\n",
       "marital      1.228295e-03\n",
       "education    3.354148e-01\n",
       "default      6.497976e-01\n",
       "housing      2.729992e-04\n",
       "loan         2.310148e-05\n",
       "contact      6.592617e-06\n",
       "month        3.639750e-01\n",
       "poutcome     3.953172e-59\n",
       "dtype: float64"
      ]
     },
     "execution_count": 47,
     "metadata": {},
     "output_type": "execute_result"
    }
   ],
   "source": [
    "p_value.index=x_train_chi.columns\n",
    "p_value"
   ]
  },
  {
   "cell_type": "code",
   "execution_count": 48,
   "id": "a88dec74",
   "metadata": {},
   "outputs": [
    {
     "data": {
      "text/plain": [
       "job            2.843364\n",
       "marital       10.447290\n",
       "education      0.927878\n",
       "default        0.206155\n",
       "housing       13.247118\n",
       "loan          17.914823\n",
       "contact       20.307947\n",
       "month          0.824131\n",
       "poutcome     262.925017\n",
       "dtype: float64"
      ]
     },
     "execution_count": 48,
     "metadata": {},
     "output_type": "execute_result"
    }
   ],
   "source": [
    "f_value.index = x_train_chi.columns\n",
    "f_value"
   ]
  },
  {
   "cell_type": "markdown",
   "id": "18294776",
   "metadata": {},
   "source": [
    "from the result of chi squared test, we got 2 values, p and f value. we select features by evaluate the p and f value. lesser the p value more important feature and  high f value has more important feature. Here Poutcome column has higher the f value and leser the p value. \n",
    "\n",
    "We selected Poutcome,housing,loan,marital,contact"
   ]
  },
  {
   "cell_type": "code",
   "execution_count": 49,
   "id": "164b39f6",
   "metadata": {},
   "outputs": [],
   "source": [
    "## from this we can drop ['job','education','default','month']"
   ]
  },
  {
   "cell_type": "markdown",
   "id": "99c32050",
   "metadata": {},
   "source": [
    "### 3.2 Correlation"
   ]
  },
  {
   "cell_type": "code",
   "execution_count": 50,
   "id": "fcc7714b",
   "metadata": {},
   "outputs": [
    {
     "data": {
      "text/html": [
       "<div>\n",
       "<style scoped>\n",
       "    .dataframe tbody tr th:only-of-type {\n",
       "        vertical-align: middle;\n",
       "    }\n",
       "\n",
       "    .dataframe tbody tr th {\n",
       "        vertical-align: top;\n",
       "    }\n",
       "\n",
       "    .dataframe thead th {\n",
       "        text-align: right;\n",
       "    }\n",
       "</style>\n",
       "<table border=\"1\" class=\"dataframe\">\n",
       "  <thead>\n",
       "    <tr style=\"text-align: right;\">\n",
       "      <th></th>\n",
       "      <th>age</th>\n",
       "      <th>balance</th>\n",
       "      <th>duration</th>\n",
       "      <th>campaign</th>\n",
       "      <th>pdays</th>\n",
       "      <th>previous</th>\n",
       "    </tr>\n",
       "  </thead>\n",
       "  <tbody>\n",
       "    <tr>\n",
       "      <th>age</th>\n",
       "      <td>1.000000</td>\n",
       "      <td>0.075073</td>\n",
       "      <td>-0.005867</td>\n",
       "      <td>0.005916</td>\n",
       "      <td>-0.016574</td>\n",
       "      <td>-0.007704</td>\n",
       "    </tr>\n",
       "    <tr>\n",
       "      <th>balance</th>\n",
       "      <td>0.075073</td>\n",
       "      <td>1.000000</td>\n",
       "      <td>-0.015900</td>\n",
       "      <td>-0.008728</td>\n",
       "      <td>0.012155</td>\n",
       "      <td>0.027817</td>\n",
       "    </tr>\n",
       "    <tr>\n",
       "      <th>duration</th>\n",
       "      <td>-0.005867</td>\n",
       "      <td>-0.015900</td>\n",
       "      <td>1.000000</td>\n",
       "      <td>-0.069838</td>\n",
       "      <td>0.007642</td>\n",
       "      <td>0.017358</td>\n",
       "    </tr>\n",
       "    <tr>\n",
       "      <th>campaign</th>\n",
       "      <td>0.005916</td>\n",
       "      <td>-0.008728</td>\n",
       "      <td>-0.069838</td>\n",
       "      <td>1.000000</td>\n",
       "      <td>-0.093081</td>\n",
       "      <td>-0.066227</td>\n",
       "    </tr>\n",
       "    <tr>\n",
       "      <th>pdays</th>\n",
       "      <td>-0.016574</td>\n",
       "      <td>0.012155</td>\n",
       "      <td>0.007642</td>\n",
       "      <td>-0.093081</td>\n",
       "      <td>1.000000</td>\n",
       "      <td>0.581832</td>\n",
       "    </tr>\n",
       "    <tr>\n",
       "      <th>previous</th>\n",
       "      <td>-0.007704</td>\n",
       "      <td>0.027817</td>\n",
       "      <td>0.017358</td>\n",
       "      <td>-0.066227</td>\n",
       "      <td>0.581832</td>\n",
       "      <td>1.000000</td>\n",
       "    </tr>\n",
       "  </tbody>\n",
       "</table>\n",
       "</div>"
      ],
      "text/plain": [
       "               age   balance  duration  campaign     pdays  previous\n",
       "age       1.000000  0.075073 -0.005867  0.005916 -0.016574 -0.007704\n",
       "balance   0.075073  1.000000 -0.015900 -0.008728  0.012155  0.027817\n",
       "duration -0.005867 -0.015900  1.000000 -0.069838  0.007642  0.017358\n",
       "campaign  0.005916 -0.008728 -0.069838  1.000000 -0.093081 -0.066227\n",
       "pdays    -0.016574  0.012155  0.007642 -0.093081  1.000000  0.581832\n",
       "previous -0.007704  0.027817  0.017358 -0.066227  0.581832  1.000000"
      ]
     },
     "execution_count": 50,
     "metadata": {},
     "output_type": "execute_result"
    }
   ],
   "source": [
    "corr = df3.corr()\n",
    "corr"
   ]
  },
  {
   "cell_type": "code",
   "execution_count": 51,
   "id": "0a4ae57b",
   "metadata": {},
   "outputs": [],
   "source": [
    "## No correlation between any numerical features"
   ]
  },
  {
   "cell_type": "markdown",
   "id": "fbbd5cdb",
   "metadata": {},
   "source": [
    "### 3.3 Droping unwanted columns"
   ]
  },
  {
   "cell_type": "code",
   "execution_count": 52,
   "id": "d1577fab",
   "metadata": {},
   "outputs": [],
   "source": [
    "df5 =df3.copy()\n",
    "df5 =df5.drop(['job','education','default','month'],axis=1)"
   ]
  },
  {
   "cell_type": "markdown",
   "id": "02811e6e",
   "metadata": {},
   "source": [
    "## 4 .Preprocessing"
   ]
  },
  {
   "cell_type": "code",
   "execution_count": 54,
   "id": "3af2948b",
   "metadata": {},
   "outputs": [
    {
     "data": {
      "text/plain": [
       "no     3893\n",
       "yes     493\n",
       "Name: y, dtype: int64"
      ]
     },
     "execution_count": 54,
     "metadata": {},
     "output_type": "execute_result"
    }
   ],
   "source": [
    "df5['y'].value_counts()"
   ]
  },
  {
   "cell_type": "markdown",
   "id": "443215d8",
   "metadata": {},
   "source": [
    "### 4.1 balance the data"
   ]
  },
  {
   "cell_type": "code",
   "execution_count": 55,
   "id": "e2d71f96",
   "metadata": {},
   "outputs": [],
   "source": [
    "## its a imbalanced data\n",
    "from imblearn.over_sampling import RandomOverSampler"
   ]
  },
  {
   "cell_type": "code",
   "execution_count": 56,
   "id": "86ba124e",
   "metadata": {},
   "outputs": [],
   "source": [
    "os =  RandomOverSampler(random_state=42)"
   ]
  },
  {
   "cell_type": "code",
   "execution_count": 58,
   "id": "53d6480a",
   "metadata": {},
   "outputs": [],
   "source": [
    "x_reshaped, y_reshaped = os.fit_resample((df5.drop(['y'],axis=1)), (df5['y']))"
   ]
  },
  {
   "cell_type": "code",
   "execution_count": 63,
   "id": "0c60ed5d",
   "metadata": {},
   "outputs": [
    {
     "data": {
      "text/plain": [
       "(7786, 12)"
      ]
     },
     "execution_count": 63,
     "metadata": {},
     "output_type": "execute_result"
    }
   ],
   "source": [
    "## concat the data\n",
    "df6 = pd.concat([x_reshaped,y_reshaped],axis=1)\n",
    "df6.shape"
   ]
  },
  {
   "cell_type": "markdown",
   "id": "081f7ecf",
   "metadata": {},
   "source": [
    "### 4.2 Train test data spli"
   ]
  },
  {
   "cell_type": "code",
   "execution_count": 69,
   "id": "34ba17e3",
   "metadata": {},
   "outputs": [
    {
     "data": {
      "text/plain": [
       "(7786, 16)"
      ]
     },
     "execution_count": 69,
     "metadata": {},
     "output_type": "execute_result"
    }
   ],
   "source": [
    "df7 = pd.get_dummies(df6,drop_first=True)\n",
    "df7.shape"
   ]
  },
  {
   "cell_type": "code",
   "execution_count": 71,
   "id": "3f9076e4",
   "metadata": {},
   "outputs": [],
   "source": [
    "# independent features \n",
    "x = df7.drop(['y_yes'],axis=1)\n",
    "\n",
    "# dependent features \n",
    "y = df7['y_yes']"
   ]
  },
  {
   "cell_type": "code",
   "execution_count": 78,
   "id": "19c92b7f",
   "metadata": {},
   "outputs": [],
   "source": [
    "from sklearn.model_selection import train_test_split"
   ]
  },
  {
   "cell_type": "code",
   "execution_count": 75,
   "id": "6d94b23b",
   "metadata": {},
   "outputs": [],
   "source": [
    "x_train,x_test, y_train, y_test = train_test_split(x,y,test_size=0.3,random_state=42,\n",
    "                                                  stratify=y,shuffle=True)"
   ]
  },
  {
   "cell_type": "markdown",
   "id": "a133bb2a",
   "metadata": {},
   "source": [
    "### 4.3 Transformations"
   ]
  },
  {
   "cell_type": "code",
   "execution_count": 79,
   "id": "2fa3adf5",
   "metadata": {},
   "outputs": [],
   "source": [
    "from sklearn.pipeline import Pipeline\n",
    "from sklearn.pipeline import make_pipeline\n",
    "from sklearn.preprocessing import StandardScaler"
   ]
  },
  {
   "cell_type": "code",
   "execution_count": 80,
   "id": "59d8e5cb",
   "metadata": {},
   "outputs": [],
   "source": [
    "scaler = StandardScaler(with_mean=False)"
   ]
  },
  {
   "cell_type": "markdown",
   "id": "e6789219",
   "metadata": {},
   "source": [
    "## 5. Modeling"
   ]
  },
  {
   "cell_type": "code",
   "execution_count": 81,
   "id": "7d0c207d",
   "metadata": {},
   "outputs": [],
   "source": [
    "from sklearn.model_selection import  GridSearchCV\n",
    "from sklearn.linear_model import LogisticRegression\n",
    "from sklearn.tree import DecisionTreeClassifier\n",
    "from sklearn.ensemble import RandomForestClassifier\n",
    "from sklearn.ensemble import GradientBoostingClassifier\n",
    "from sklearn.metrics import accuracy_score,classification_report,f1_score,confusion_matrix,precision_score,recall_score,f1_score,roc_auc_score"
   ]
  },
  {
   "cell_type": "code",
   "execution_count": 171,
   "id": "72e7e4ca",
   "metadata": {},
   "outputs": [],
   "source": [
    "from sklearn.metrics import confusion_matrix\n",
    "from sklearn.metrics import plot_confusion_matrix\n",
    "from sklearn.model_selection import cross_val_predict,cross_val_score"
   ]
  },
  {
   "cell_type": "code",
   "execution_count": 100,
   "id": "068d4d24",
   "metadata": {},
   "outputs": [],
   "source": [
    "from sklearn.metrics import precision_score,recall_score,roc_curve,auc\n",
    "from sklearn import metrics"
   ]
  },
  {
   "cell_type": "code",
   "execution_count": 84,
   "id": "6c26d0ce",
   "metadata": {},
   "outputs": [],
   "source": [
    "models={'Logistic regression'     : LogisticRegression(),\n",
    "        'Random forest classifier': RandomForestClassifier(),\n",
    "        'Gradient boosting classifier': GradientBoostingClassifier()\n",
    "       }"
   ]
  },
  {
   "cell_type": "code",
   "execution_count": 85,
   "id": "dbec2114",
   "metadata": {},
   "outputs": [
    {
     "name": "stdout",
     "output_type": "stream",
     "text": [
      "Logistic regression___trained\n",
      "Random forest classifier___trained\n",
      "Gradient boosting classifier___trained\n"
     ]
    }
   ],
   "source": [
    "for name, model in models.items():\n",
    "    ### construct a pipeline\n",
    "    pipeline=Pipeline(steps=[\n",
    "        ('scaling',scaler),\n",
    "        ('Modeling',model)\n",
    "    ])\n",
    "    \n",
    "    pipeline.fit(x_train,y_train)\n",
    "    print(name+'___trained')"
   ]
  },
  {
   "cell_type": "code",
   "execution_count": 86,
   "id": "e9c4c4f1",
   "metadata": {},
   "outputs": [
    {
     "name": "stdout",
     "output_type": "stream",
     "text": [
      "Logistic regression__accuracy score: 0.79795\n",
      "Logistic regression__precision score: 0.79981\n",
      "Logistic regression__recall_score:0.75856\n",
      "Logistic regression__f1_score:0.78966\n",
      "-------------------------------------------------------------------\n",
      "Random forest classifier__accuracy score: 0.96318\n",
      "Random forest classifier__precision score: 0.96548\n",
      "Random forest classifier__recall_score:0.99829\n",
      "Random forest classifier__f1_score:0.96443\n",
      "-------------------------------------------------------------------\n",
      "Gradient boosting classifier__accuracy score: 0.85317\n",
      "Gradient boosting classifier__precision score: 0.85487\n",
      "Gradient boosting classifier__recall_score:0.88784\n",
      "Gradient boosting classifier__f1_score:0.85809\n",
      "-------------------------------------------------------------------\n"
     ]
    }
   ],
   "source": [
    "for name, model in models.items():\n",
    "    ### construct a pipeline\n",
    "    pipeline=Pipeline(steps=[\n",
    "        ('scaling',scaler),\n",
    "        ('Modeling',model)\n",
    "    ])\n",
    "    \n",
    "\n",
    "    y_predictions = pipeline.predict(x_test)\n",
    "    print(name+'__accuracy score: {:.5f}'.format(accuracy_score(y_test,y_predictions)))  \n",
    "    print(name+'__precision score: {:.5f}'.format(precision_score(y_test,y_predictions, average='weighted')))  \n",
    "    print(name+'__recall_score:{:.5f}'.format(recall_score( y_test,y_predictions)))\n",
    "    print(name+'__f1_score:{:.5f}'.format(f1_score(y_test,y_predictions)))\n",
    "    print('-------------------------------------------------------------------')\n",
    "    \n"
   ]
  },
  {
   "cell_type": "markdown",
   "id": "b54ba7d8",
   "metadata": {},
   "source": [
    "#### from these model Random forest classifier has good score than other classifer model, so we select Random forest classifer"
   ]
  },
  {
   "cell_type": "markdown",
   "id": "f77cc684",
   "metadata": {},
   "source": [
    "### 5.1 Plot the confusin model"
   ]
  },
  {
   "cell_type": "code",
   "execution_count": 88,
   "id": "3ab24ee2",
   "metadata": {},
   "outputs": [],
   "source": [
    "rand_clas = RandomForestClassifier()"
   ]
  },
  {
   "cell_type": "code",
   "execution_count": 89,
   "id": "cbabae36",
   "metadata": {},
   "outputs": [
    {
     "data": {
      "text/plain": [
       "RandomForestClassifier()"
      ]
     },
     "execution_count": 89,
     "metadata": {},
     "output_type": "execute_result"
    }
   ],
   "source": [
    "rand_clas.fit(x_train,y_train)"
   ]
  },
  {
   "cell_type": "code",
   "execution_count": 90,
   "id": "7a2f73f7",
   "metadata": {},
   "outputs": [],
   "source": [
    "y_predictions = rand_clas.predict(x_test)"
   ]
  },
  {
   "cell_type": "code",
   "execution_count": 91,
   "id": "de385b44",
   "metadata": {},
   "outputs": [],
   "source": [
    "y_predictions = rand_clas.predict(x_test)"
   ]
  },
  {
   "cell_type": "code",
   "execution_count": 92,
   "id": "74d09773",
   "metadata": {},
   "outputs": [
    {
     "name": "stderr",
     "output_type": "stream",
     "text": [
      "C:\\Users\\Asus\\anaconda3\\lib\\site-packages\\sklearn\\utils\\deprecation.py:87: FutureWarning: Function plot_confusion_matrix is deprecated; Function `plot_confusion_matrix` is deprecated in 1.0 and will be removed in 1.2. Use one of the class methods: ConfusionMatrixDisplay.from_predictions or ConfusionMatrixDisplay.from_estimator.\n",
      "  warnings.warn(msg, category=FutureWarning)\n"
     ]
    },
    {
     "data": {
      "text/plain": [
       "<sklearn.metrics._plot.confusion_matrix.ConfusionMatrixDisplay at 0x2a655d7c9d0>"
      ]
     },
     "execution_count": 92,
     "metadata": {},
     "output_type": "execute_result"
    },
    {
     "data": {
      "image/png": "[encoded data removed]",
      "text/plain": [
       "<Figure size 800x600 with 2 Axes>"
      ]
     },
     "metadata": {},
     "output_type": "display_data"
    }
   ],
   "source": [
    "plot_confusion_matrix(rand_clas,x_test,y_test)"
   ]
  },
  {
   "cell_type": "markdown",
   "id": "f47e8367",
   "metadata": {},
   "source": [
    "The accuracy score for the **random forest classifier** is **0.96318**, which means that the model correctly predicted **96.31%** of the samples in the test set. The **precision score** is also **0.96548**, which indicates that the model has a high precision, meaning that it has a low false positive rate. The **recall score** is **0.99829** indicating that the model has a high recall, meaning that it has a low false negative rate. The **F1 score** is **0.96443**, and it is a good measure of a model's balance between precision and recall. In general, these scores suggest that the random forest classifier is performing well on the dataset."
   ]
  },
  {
   "cell_type": "markdown",
   "id": "c45da09f",
   "metadata": {},
   "source": [
    "This model has given good result, So dont need to tune this model"
   ]
  },
  {
   "cell_type": "markdown",
   "id": "7d666c6e",
   "metadata": {},
   "source": [
    "## 6. Hyperparameter tuning"
   ]
  },
  {
   "cell_type": "code",
   "execution_count": 157,
   "id": "6627846b",
   "metadata": {},
   "outputs": [
    {
     "data": {
      "image/png": "[encoded data removed]",
      "text/plain": [
       "<Figure size 800x600 with 1 Axes>"
      ]
     },
     "metadata": {},
     "output_type": "display_data"
    }
   ],
   "source": [
    "## curve for better optimizing\n",
    "\n",
    "n_estimators = [20,40,60,50,55,80,100,120,150,200]\n",
    "train_results = []\n",
    "test_results = []\n",
    "\n",
    "for estimators in n_estimators:\n",
    "    \n",
    "    rf = RandomForestClassifier(n_estimators=estimators, n_jobs=-1)\n",
    "    rf.fit(x_train,y_train)\n",
    "    train_pred1 = rf.predict(x_train)\n",
    "    \n",
    "    false_pos_rate, true_pos_rate, thresholds = roc_curve(y_train,train_pred1)\n",
    "    roc_aus = auc(false_pos_rate,true_pos_rate)\n",
    "    train_results.append(roc_aus)\n",
    "    y_pred1 = rf.predict(x_test)\n",
    "    false_pos_rate,true_pos_rate,thresholds = roc_curve(y_test,y_pred1)\n",
    "    roc_aus = auc(false_pos_rate,true_pos_rate)\n",
    "    test_results.append(roc_aus)\n",
    "    \n",
    "from matplotlib.legend_handler import HandlerLine2D\n",
    "\n",
    "line_train, = plt.plot(n_estimators, train_results, 'b',label = 'train AUC')\n",
    "line_test, = plt.plot(n_estimators, test_results, 'r',label = 'test AUC')\n",
    "\n",
    "plt.legend(handler_map= {line_train: HandlerLine2D(numpoints=2)})\n",
    "plt.xlabel('AUC_score')\n",
    "plt.ylabel('n_estimators')\n",
    "plt.show()"
   ]
  },
  {
   "cell_type": "code",
   "execution_count": 160,
   "id": "a20c8530",
   "metadata": {},
   "outputs": [
    {
     "data": {
      "image/png": "[encoded data removed]",
      "text/plain": [
       "<Figure size 800x600 with 1 Axes>"
      ]
     },
     "metadata": {},
     "output_type": "display_data"
    }
   ],
   "source": [
    "n_estimators =  [18,20,22,24,26,28]\n",
    "train_results = []\n",
    "test_results = []\n",
    "\n",
    "for estimators in n_estimators:\n",
    "    \n",
    "    rf = RandomForestClassifier(max_depth=estimators, n_jobs=-1)\n",
    "    rf.fit(x_train,y_train)\n",
    "    train_pred1 = rf.predict(x_train)\n",
    "    \n",
    "    false_pos_rate, true_pos_rate, thresholds = roc_curve(y_train,train_pred1)\n",
    "    roc_aus = auc(false_pos_rate,true_pos_rate)\n",
    "    train_results.append(roc_aus)\n",
    "    y_pred1 = rf.predict(x_test)\n",
    "    false_pos_rate,true_pos_rate,thresholds = roc_curve(y_test,y_pred1)\n",
    "    roc_aus = auc(false_pos_rate,true_pos_rate)\n",
    "    test_results.append(roc_aus)\n",
    "    \n",
    "from matplotlib.legend_handler import HandlerLine2D\n",
    "\n",
    "line_train, = plt.plot(n_estimators, train_results, 'b',label = 'train AUC')\n",
    "line_test, = plt.plot(n_estimators, test_results, 'r',label = 'test AUC')\n",
    "\n",
    "plt.legend(handler_map= {line_train: HandlerLine2D(numpoints=2)})\n",
    "plt.xlabel('AUC_score')\n",
    "plt.ylabel('max depth')\n",
    "plt.show()"
   ]
  },
  {
   "cell_type": "markdown",
   "id": "e6400424",
   "metadata": {},
   "source": [
    "### Stratified K fold cross validation"
   ]
  },
  {
   "cell_type": "code",
   "execution_count": 172,
   "id": "e2d4650d",
   "metadata": {},
   "outputs": [],
   "source": [
    "from sklearn.model_selection import StratifiedKFold\n",
    "skfold = StratifiedKFold(n_splits=5)\n",
    "model1 = RandomForestClassifier()\n",
    "scores = cross_val_score(model1,x,y,cv = skfold)"
   ]
  },
  {
   "cell_type": "code",
   "execution_count": 174,
   "id": "727e4ac7",
   "metadata": {},
   "outputs": [
    {
     "name": "stdout",
     "output_type": "stream",
     "text": [
      "0.965321134501275\n"
     ]
    }
   ],
   "source": [
    "print(np.mean(scores))"
   ]
  },
  {
   "cell_type": "markdown",
   "id": "12acba6e",
   "metadata": {},
   "source": [
    "## 7. About the model"
   ]
  },
  {
   "cell_type": "markdown",
   "id": "6b1d33cf",
   "metadata": {},
   "source": [
    "### 7.1 Describing my model"
   ]
  },
  {
   "cell_type": "markdown",
   "id": "b62f9b42",
   "metadata": {},
   "source": [
    "\n",
    "\n",
    "The churn detection model that I am describing is a Random Forest Classifier, which is a type of ensemble learning method that combines multiple decision trees to create a more accurate and stable model.\n",
    "\n",
    "The first step is to finding there is any missing value present in the data set. In this data there is no missing values are present. Then clean the data by perfoming outler calculation . in here there is high outlier on amount column. so clean outlier on amount colum. Then drop the unwanted column.\n",
    "\n",
    "Once the data is prepared, the next step is to train the model. This involves using the prepared data to train various classifer algorithums. then calculate the accuracy score, recall score, precision score and F1 score. based on scores we select high perfoming algorithm. Here random forest classifier. The model is then fine-tuned using various techniques such as cross-validation and grid search to optimize the performance. But here we didnt required it. because it perfome very well even without tuning\n",
    "\n",
    "Once the model is trained, it can be used to make predictions on new data(test data set). The model will take in the new data and use the trained mdoel to make a prediction about whether the churn or not. \n",
    "\n",
    "The Random Forest Classifier is a powerful and flexible model that can be used for churn detection. It is able to handle large amounts of data, handle non-linear relationships between features. Furthermore, it is less prone to overfitting than a single decision tree.\n",
    "\n",
    "It's important to note that the performance of the model will depend on the quality and relevance of the data and features used to train it, so it's important to continuously monitor the model's performance and fine-tune it as necessary.\n"
   ]
  },
  {
   "cell_type": "markdown",
   "id": "ab63b6a5",
   "metadata": {},
   "source": [
    "### 7.2 Selection of features"
   ]
  },
  {
   "cell_type": "markdown",
   "id": "28997c65",
   "metadata": {},
   "source": [
    "The **chi-squared test** is a statistical test that is used to determine the relationship between two categorical variables. It is often used in feature selection for categorical data to assess the independence of each feature with the target variable. The test calculates the chi-squared statistic, which measures the deviation of the observed values from the expected values under the assumption of independence. If the p-value of the test is less than a certain significance level (e.g. 0.05), it is concluded that there is a significant association between the two variables and the feature is considered for selection.\n",
    "\n",
    "\n",
    "Here we preformed chi squared test and we got values, ie P value and f value. we select features by evaluate the p and f value. lesser the p value more important feature and high f value has more important feature. Here Poutcome column has higher the f value and leser the p value. We selected Poutcome,housing,loan,marital,contact. and drop  other features. \n",
    "\n",
    "**Correlation test** is a statistical measure that quantifies the strength and direction of the linear relationship between two numerical variables. It is often used in feature selection for numerical data to identify the features that have a strong relationship with the target variable. The correlation coefficient, commonly denoted by Pearson's r, ranges from -1 to 1, where -1 represents a perfect negative linear relationship, 1 represents a perfect positive linear relationship, and 0 represents no linear relationship. Features with high absolute correlation values (close to -1 or 1) are considered for selection because they have a strong relationship with the target variable. However, it's important to note that correlation only measures linear relationships and may not capture non-linear relationships between features and the target.\n",
    "\n",
    "\n",
    "Here we don't get any correlation between any numerical features. we we select all numerical features.\n",
    "\n"
   ]
  },
  {
   "cell_type": "markdown",
   "id": "8739166e",
   "metadata": {},
   "source": [
    " ### 7.3 Evaluation report"
   ]
  },
  {
   "cell_type": "markdown",
   "id": "b9656bd2",
   "metadata": {},
   "source": [
    "The accuracy score for the random forest classifier is 0.96318, which means that the model correctly predicted 96.31% of the samples in the test set. The precision score is also 0.96548, which indicates that the model has a high precision, meaning that it has a low false positive rate. The recall score is 0.99829 indicating that the model has a high recall, meaning that it has a low false negative rate. The F1 score is 0.96443, and it is a good measure of a model's balance between precision and recall. In general, these scores suggest that the random forest classifier is performing well on the dataset.\n",
    "\n",
    "\n",
    "We only have 2 False negative prediction,  and 88 False positive. It means this model give good result And True positive is 1166, True negative is 1080 predictions. \n"
   ]
  }
 ],
 "metadata": {
  "kernelspec": {
   "display_name": "Python 3 (ipykernel)",
   "language": "python",
   "name": "python3"
  },
  "language_info": {
   "codemirror_mode": {
    "name": "ipython",
    "version": 3
   },
   "file_extension": ".py",
   "mimetype": "text/x-python",
   "name": "python",
   "nbconvert_exporter": "python",
   "pygments_lexer": "ipython3",
   "version": "3.9.13"
  }
 },
 "nbformat": 4,
 "nbformat_minor": 5
}
